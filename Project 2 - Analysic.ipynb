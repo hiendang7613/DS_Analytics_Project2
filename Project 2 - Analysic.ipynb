{
  "cells": [
    {
      "cell_type": "markdown",
      "metadata": {
        "id": "Dvl3mIP0F-Qr"
      },
      "source": [
        "\n",
        "# Đồ án 2 - Phân tích dữ liệu\n",
        "\n",
        "Thành viên : \n",
        "\n",
        "Đặng Văn Hiển - 18120363\n",
        "\n",
        "Trà Anh Toàn - 1812662\n",
        "\n",
        "Lê Thanh Viễn - 18120647\n",
        "\n",
        "Nguyễn Trần Nhật Minh - 18120208\n",
        "\n",
        "Nguyễn Vinh Quang - 18120229\n",
        "\n"
      ]
    },
    {
      "cell_type": "code",
      "execution_count": null,
      "metadata": {
        "colab": {
          "base_uri": "https://localhost:8080/"
        },
        "id": "_J6DkJ8uVLdf",
        "outputId": "efb5f3eb-612d-4ba0-c178-c9250a257562"
      },
      "outputs": [
        {
          "output_type": "stream",
          "name": "stdout",
          "text": [
            "Downloading...\n",
            "From: https://drive.google.com/uc?id=1IwD1O2ytJPxzMxy--cmMGtSkLswZePdS\n",
            "To: /content/user.csv\n",
            "100% 352k/352k [00:00<00:00, 50.5MB/s]\n",
            "Downloading...\n",
            "From: https://drive.google.com/uc?id=1iWTuPzoeg-CyMViFhqQz7Mgp4Dgni4oN\n",
            "To: /content/playlist.csv\n",
            "100% 350k/350k [00:00<00:00, 45.2MB/s]\n",
            "Downloading...\n",
            "From: https://drive.google.com/uc?id=1PXpzv_9nYiPXyQwBtuIpQ8vSMYeL1yVk\n",
            "To: /content/track.csv\n",
            "100% 253k/253k [00:00<00:00, 35.5MB/s]\n",
            "data_csv.csv\tdata_csv.csv.2\tplaylist.csv  track.csv\n",
            "data_csv.csv.1\tdata_csv.csv.3\tsample_data   user.csv\n",
            "--2021-12-15 09:03:22--  https://pkgstore.datahub.io/core/country-list/data_csv/data/d7c9d7cfb42cb69f4422dec222dbbaa8/data_csv.csv\n",
            "Resolving pkgstore.datahub.io (pkgstore.datahub.io)... 104.21.40.221, 172.67.157.38, 2606:4700:3030::ac43:9d26, ...\n",
            "Connecting to pkgstore.datahub.io (pkgstore.datahub.io)|104.21.40.221|:443... connected.\n",
            "HTTP request sent, awaiting response... 200 OK\n",
            "Length: 4120 (4.0K) [text/plain]\n",
            "Saving to: ‘data_csv.csv.4’\n",
            "\n",
            "data_csv.csv.4      100%[===================>]   4.02K  --.-KB/s    in 0s      \n",
            "\n",
            "2021-12-15 09:03:22 (53.8 MB/s) - ‘data_csv.csv.4’ saved [4120/4120]\n",
            "\n"
          ]
        }
      ],
      "source": [
        "!gdown --id 1IwD1O2ytJPxzMxy--cmMGtSkLswZePdS\n",
        "!gdown --id 1iWTuPzoeg-CyMViFhqQz7Mgp4Dgni4oN\n",
        "!gdown --id 1PXpzv_9nYiPXyQwBtuIpQ8vSMYeL1yVk\n",
        "!ls\n",
        "!wget https://pkgstore.datahub.io/core/country-list/data_csv/data/d7c9d7cfb42cb69f4422dec222dbbaa8/data_csv.csv"
      ]
    },
    {
      "cell_type": "markdown",
      "metadata": {
        "id": "8ZPNS31ZGT2E"
      },
      "source": [
        "# Import"
      ]
    },
    {
      "cell_type": "code",
      "execution_count": null,
      "metadata": {
        "id": "VOgyyC3TGRcN"
      },
      "outputs": [],
      "source": [
        "import matplotlib.pyplot as plt\n",
        "import numpy as np\n",
        "import pandas as pd \n",
        "import seaborn as sns\n",
        "import warnings\n",
        "import matplotlib.pyplot as plt\n",
        "\n",
        "warnings.filterwarnings('ignore')"
      ]
    },
    {
      "cell_type": "markdown",
      "metadata": {
        "id": "wEw61LhCGndr"
      },
      "source": [
        "# Danh sách mong đợi sẽ thấy từ dữ liệu:\n"
      ]
    },
    {
      "cell_type": "markdown",
      "metadata": {
        "id": "2Q4rV-hs4nRe"
      },
      "source": [
        "1. Thời lượng playlist nằm trong khoảng nào thì có số lượt thích nhiều \n",
        "nhất (10-20, 20-30,30-40)\n",
        "- Lý do lựa chọn: để tìm thói quen nghe nhạc của người dùng.\n",
        "2. Playlist thuộc thể loại nào có nhiều lượt thích nhất.\n",
        "- Tìm ra thể loại mà đa số người dùng ưa thích.\n",
        "3. Quốc gia nào có nhiều người dùng nhất\n",
        "- Tìm ra xu hướng mong muốn phát triển của nền tảng tại thị trường quốc gia nào.\n",
        "4. Quốc gia nào có nhiều người sáng tạo nội dung / người dùng nhất\n",
        "- Tạo cơ sở để có chính sách phát triển tại các quốc gia có lượng người dùng lớn nhưng lại có lượng người sáng tạo nội dung nhỏ.\n",
        "5. Thống kê số lượng follower theo quốc gia\n",
        "- Tìm ra thói quen follow của người dùng tại các quốc gia\n",
        "6. Thống kê lượt lượt thích, bình luận, tải xuống, lượt chạy, của track theo thể loại, thời lượng và năm xuất bản\n",
        "- Sự ảnh hưởng của thể loại, thời lượng và năm xuất bản đến hành vi người dùng.\n",
        "7. Sự ảnh hưởng của số lượng tag với số lượt xem, tải xuống và thích của track\n",
        "8. Thống kê nghệ sĩ ở đâu dc like nhiều \n",
        "- Tìm ra quốc gia có số lượng nghệ sĩ được yêu thích nhiều.\n",
        "9. Thống kê thời lượng theo quốc gia\n",
        "- Tìm ra thói quen phong cách sáng tác theo quốc gia\n",
        "10. Thống kê track nào dc chọn trong playlist nhiều nhất\n",
        "- Tìm ra track được yêu thích nhất\n"
      ]
    },
    {
      "cell_type": "markdown",
      "metadata": {
        "id": "qNk25Ax7wY6X"
      },
      "source": [
        "#Preprocessing"
      ]
    },
    {
      "cell_type": "markdown",
      "metadata": {
        "id": "tE5rdlMiwdjs"
      },
      "source": [
        "## Tập user"
      ]
    },
    {
      "cell_type": "code",
      "execution_count": null,
      "metadata": {
        "colab": {
          "base_uri": "https://localhost:8080/"
        },
        "id": "Tk9MiqOmiRNp",
        "outputId": "13d9c1fe-d536-4456-95e8-1c2f61b33cb9"
      },
      "outputs": [
        {
          "output_type": "stream",
          "name": "stdout",
          "text": [
            "['GB' nan 'IN' 'US' 'JP' 'ES' 'PH' 'DE' 'MX' 'GU' 'LK' 'CZ' 'AU' 'HU' 'CO'\n",
            " 'AR' 'CA' 'ID' 'NL' 'NZ' 'AO' 'ZA' 'FR' 'DK' 'BR' 'UA' 'EE' 'KE' 'LC'\n",
            " 'TR' 'CL' 'TH' 'KR' 'PT' 'VE' 'BE' 'RO' 'GR' 'IE' 'AT' 'CH' 'HK' 'DO'\n",
            " 'VU' 'MU' 'GA' 'CR' 'SE' 'IT' 'FM']\n",
            "['United Kingdom' nan 'India' 'United States' 'Japan' 'Spain'\n",
            " 'Philippines' 'Germany' 'Mexico' 'Guam' 'Sri Lanka' 'Czech Republic'\n",
            " 'Australia' 'Hungary' 'Colombia' 'Argentina' 'Canada' 'Indonesia'\n",
            " 'Netherlands' 'New Zealand' 'Angola' 'South Africa' 'France' 'Denmark'\n",
            " 'Brazil' 'Ukraine' 'Estonia' 'Kenya' 'Saint Lucia' 'Turkey' 'Chile'\n",
            " 'Thailand' 'Korea, Republic of' 'Portugal'\n",
            " 'Venezuela, Bolivarian Republic of' 'Belgium' 'Romania' 'Greece'\n",
            " 'Ireland' 'Austria' 'Switzerland' 'Hong Kong' 'Dominican Republic'\n",
            " 'Vanuatu' 'Mauritius' 'Gabon' 'Costa Rica' 'Sweden' 'Italy'\n",
            " 'Micronesia, Federated States of']\n"
          ]
        }
      ],
      "source": [
        "user_df = pd.read_csv('user.csv')\n",
        "country_df = pd.read_csv('data_csv.csv').rename(columns={'Code':'country_code'})\n",
        "country_df=country_df[~country_df['Name'].isin(['Namibia'])]\n",
        "user_df = pd.merge(country_df, user_df, on='country_code',how='right')\n",
        "print(user_df['country_code'].unique())\n",
        "user_df = user_df.drop('country_code',axis=1)\n",
        "user_df = user_df.rename(columns = {'Name': 'country_name'})\n",
        "\n",
        "print(user_df['country_name'].unique())\n"
      ]
    },
    {
      "cell_type": "markdown",
      "metadata": {
        "id": "5qly8vIEkZCe"
      },
      "source": [
        "###**Dữ liệu có bao nhiêu dòng và bao nhiêu cột?**"
      ]
    },
    {
      "cell_type": "code",
      "execution_count": null,
      "metadata": {
        "colab": {
          "base_uri": "https://localhost:8080/"
        },
        "id": "rOfmKcf8i1hI",
        "outputId": "75a390ba-d3b6-4aae-9854-b8793addfffb"
      },
      "outputs": [
        {
          "output_type": "execute_result",
          "data": {
            "text/plain": [
              "(1100, 26)"
            ]
          },
          "metadata": {},
          "execution_count": 575
        }
      ],
      "source": [
        "user_df.shape"
      ]
    },
    {
      "cell_type": "markdown",
      "metadata": {
        "id": "NHJQKbuqkkPa"
      },
      "source": [
        "Vậy tập User có 1100 dòng và 26 cột"
      ]
    },
    {
      "cell_type": "markdown",
      "metadata": {
        "id": "GznM3pYclEKx"
      },
      "source": [
        "###**Dữ liệu có các dòng bị lặp không?**"
      ]
    },
    {
      "cell_type": "code",
      "execution_count": null,
      "metadata": {
        "colab": {
          "base_uri": "https://localhost:8080/"
        },
        "id": "KDNxPZGilRWc",
        "outputId": "fcf5fa10-eeae-4006-e7a0-cafdcabd7890"
      },
      "outputs": [
        {
          "output_type": "execute_result",
          "data": {
            "text/plain": [
              "0"
            ]
          },
          "metadata": {},
          "execution_count": 576
        }
      ],
      "source": [
        "user_df.duplicated().sum()"
      ]
    },
    {
      "cell_type": "markdown",
      "metadata": {
        "id": "QdFXIl1Fm1tz"
      },
      "source": [
        "Vậy tập User không có dòng nào lặp"
      ]
    },
    {
      "cell_type": "markdown",
      "metadata": {
        "id": "BjfmkNTZnEAd"
      },
      "source": [
        "###**Mỗi dòng có ý nghĩa gì? Có vấn đề các dòng có ý nghĩa khác nhau không?**"
      ]
    },
    {
      "cell_type": "markdown",
      "metadata": {
        "id": "TZlaDAG7nCPL"
      },
      "source": [
        "Mỗi dòng cho biết thông tin của một user và không có vấn đề các dòng có ý nghĩa khác nhau."
      ]
    },
    {
      "cell_type": "markdown",
      "source": [
        ""
      ],
      "metadata": {
        "id": "BzsCVQFFM10k"
      }
    },
    {
      "cell_type": "markdown",
      "metadata": {
        "id": "JXzfrzpqntHL"
      },
      "source": [
        "###**Mỗi cột có ý nghĩa gì?**"
      ]
    },
    {
      "cell_type": "markdown",
      "metadata": {
        "id": "b3NW4aJpnJyV"
      },
      "source": [
        "|Thuộc tính|Kiểu dữ liệu| Ý nghĩa |Miền giá trị |\n",
        "|:---:|:---:|:---:|:---:|\n",
        "|user_id|string|id người dùng||\n",
        "|username|string|tên tk người dùng ||\n",
        "|description|string|mô tả của người dùng||\n",
        "|country_code|category|mã quốc gia||\n",
        "|first_name|string|tên||\n",
        "|last_name|string|họ||\n",
        "|full_name|string|họ và tên||\n",
        "|created_at|string|ngày tạo||\n",
        "|last_modified|string|ngày chỉnh sửa cuối||\n",
        "|creator_subscription|category|có đăng kí làm người sáng tạo nội dung hay không|['free', 'creator-pro-unlimited']|\n",
        "|followers_count|numeric|số người theo dõi||\n",
        "|followings_count|numeric|số người đang theo dõi|zz|\n",
        "|likes_count|numeric|số lượt thích|zz|\n",
        "|comments_counts|numeric|số lượt binh luận|zz|\n",
        "|playlist_likes_count|numeric|số playlist đã thích|zz|\n",
        "|track_count|numeric|số track của user|zz|\n",
        "|playlist_count|numeric|số playlist của user|zz|\n",
        "|reposts_count|numeric|số báo cáo của user|zz|\n"
      ]
    },
    {
      "cell_type": "markdown",
      "metadata": {
        "id": "PtKCqR6fgRzT"
      },
      "source": [
        "## Tập track"
      ]
    },
    {
      "cell_type": "code",
      "execution_count": null,
      "metadata": {
        "colab": {
          "base_uri": "https://localhost:8080/"
        },
        "id": "85-RO1ubiieV",
        "outputId": "b7e44d96-e606-4bec-bc1b-9d5b1964df26"
      },
      "outputs": [
        {
          "output_type": "execute_result",
          "data": {
            "text/html": [
              "<div>\n",
              "<style scoped>\n",
              "    .dataframe tbody tr th:only-of-type {\n",
              "        vertical-align: middle;\n",
              "    }\n",
              "\n",
              "    .dataframe tbody tr th {\n",
              "        vertical-align: top;\n",
              "    }\n",
              "\n",
              "    .dataframe thead th {\n",
              "        text-align: right;\n",
              "    }\n",
              "</style>\n",
              "<table border=\"1\" class=\"dataframe\">\n",
              "  <thead>\n",
              "    <tr style=\"text-align: right;\">\n",
              "      <th></th>\n",
              "      <th>id</th>\n",
              "      <th>title</th>\n",
              "      <th>description</th>\n",
              "      <th>duration</th>\n",
              "      <th>genre</th>\n",
              "      <th>tag_list</th>\n",
              "      <th>user_id</th>\n",
              "      <th>album_title</th>\n",
              "      <th>created_at</th>\n",
              "      <th>last_modified</th>\n",
              "      <th>release_date</th>\n",
              "      <th>display_date</th>\n",
              "      <th>download_count</th>\n",
              "      <th>likes_count</th>\n",
              "      <th>comment_count</th>\n",
              "      <th>reposts_count</th>\n",
              "      <th>playback_count</th>\n",
              "    </tr>\n",
              "  </thead>\n",
              "  <tbody>\n",
              "    <tr>\n",
              "      <th>0</th>\n",
              "      <td>786911779</td>\n",
              "      <td>Merky! Guest Mix Vol. 2 - Calm Stiege</td>\n",
              "      <td>We continue our guest series with ex Crystal C...</td>\n",
              "      <td>1436186</td>\n",
              "      <td>Garage</td>\n",
              "      <td>XDJ-RX2 Grime ukf Uk Funky 140 Garage</td>\n",
              "      <td>768877975</td>\n",
              "      <td>NaN</td>\n",
              "      <td>2020-03-30T16:28:09Z</td>\n",
              "      <td>2020-03-30T16:28:11Z</td>\n",
              "      <td>NaN</td>\n",
              "      <td>2020-03-30T16:28:09Z</td>\n",
              "      <td>0</td>\n",
              "      <td>5</td>\n",
              "      <td>0</td>\n",
              "      <td>4</td>\n",
              "      <td>75</td>\n",
              "    </tr>\n",
              "    <tr>\n",
              "      <th>1</th>\n",
              "      <td>778444612</td>\n",
              "      <td>Merky! Guest Mix Vol. 1 - Collate</td>\n",
              "      <td>Kicking off our guest mix series with local DJ...</td>\n",
              "      <td>1285068</td>\n",
              "      <td>Drum &amp; Bass</td>\n",
              "      <td>dnb liquid Mix rollers Jungle \"jump up\" \"Drum ...</td>\n",
              "      <td>768877975</td>\n",
              "      <td>NaN</td>\n",
              "      <td>2020-03-18T18:31:24Z</td>\n",
              "      <td>2020-03-18T18:33:02Z</td>\n",
              "      <td>NaN</td>\n",
              "      <td>2020-03-18T18:31:24Z</td>\n",
              "      <td>0</td>\n",
              "      <td>8</td>\n",
              "      <td>0</td>\n",
              "      <td>5</td>\n",
              "      <td>90</td>\n",
              "    </tr>\n",
              "    <tr>\n",
              "      <th>2</th>\n",
              "      <td>749818084</td>\n",
              "      <td>Chillo - VOL. 1, Jan 2020</td>\n",
              "      <td>A mix of DnB from our Co-Owner and resident DJ...</td>\n",
              "      <td>2019709</td>\n",
              "      <td>Drum &amp; Bass</td>\n",
              "      <td>Dnb Drums bass jumpup rollers jungle electrontic</td>\n",
              "      <td>768877975</td>\n",
              "      <td>NaN</td>\n",
              "      <td>2020-01-26T16:26:53Z</td>\n",
              "      <td>2020-01-26T16:26:56Z</td>\n",
              "      <td>NaN</td>\n",
              "      <td>2020-01-26T16:26:53Z</td>\n",
              "      <td>0</td>\n",
              "      <td>16</td>\n",
              "      <td>2</td>\n",
              "      <td>6</td>\n",
              "      <td>182</td>\n",
              "    </tr>\n",
              "  </tbody>\n",
              "</table>\n",
              "</div>"
            ],
            "text/plain": [
              "          id  ... playback_count\n",
              "0  786911779  ...             75\n",
              "1  778444612  ...             90\n",
              "2  749818084  ...            182\n",
              "\n",
              "[3 rows x 17 columns]"
            ]
          },
          "metadata": {},
          "execution_count": 577
        }
      ],
      "source": [
        "track_df = pd.read_csv('track.csv')\n",
        "track_df.head(3)"
      ]
    },
    {
      "cell_type": "markdown",
      "metadata": {
        "id": "csQPLUtP0BD4"
      },
      "source": [
        "###**Dữ liệu có bao nhiêu dòng và bao nhiêu cột?**"
      ]
    },
    {
      "cell_type": "code",
      "execution_count": null,
      "metadata": {
        "colab": {
          "base_uri": "https://localhost:8080/"
        },
        "id": "lB0tYn120BD4",
        "outputId": "227d3418-bf7a-4b1c-85f2-ef208b1c1b6f"
      },
      "outputs": [
        {
          "output_type": "execute_result",
          "data": {
            "text/plain": [
              "(1107, 17)"
            ]
          },
          "metadata": {},
          "execution_count": 578
        }
      ],
      "source": [
        "track_df.shape"
      ]
    },
    {
      "cell_type": "markdown",
      "metadata": {
        "id": "nK9NWwO00BD4"
      },
      "source": [
        "Vậy tập User có 1100 dòng và 26 cột"
      ]
    },
    {
      "cell_type": "markdown",
      "metadata": {
        "id": "kGtsp-lf0BD4"
      },
      "source": [
        "###**Dữ liệu có các dòng bị lặp không?**"
      ]
    },
    {
      "cell_type": "code",
      "execution_count": null,
      "metadata": {
        "colab": {
          "base_uri": "https://localhost:8080/"
        },
        "id": "D5xE5VZg0BD5",
        "outputId": "69718e6e-f96e-4388-f563-1666cf3d1e2c"
      },
      "outputs": [
        {
          "output_type": "execute_result",
          "data": {
            "text/plain": [
              "0"
            ]
          },
          "metadata": {},
          "execution_count": 579
        }
      ],
      "source": [
        "track_df.duplicated().sum()"
      ]
    },
    {
      "cell_type": "markdown",
      "metadata": {
        "id": "K4pwe3S50BD7"
      },
      "source": [
        "Vậy tập User không có dòng nào lặp"
      ]
    },
    {
      "cell_type": "markdown",
      "metadata": {
        "id": "GLN3GqSy0BD8"
      },
      "source": [
        "###**Mỗi dòng có ý nghĩa gì? Có vấn đề các dòng có ý nghĩa khác nhau không?**"
      ]
    },
    {
      "cell_type": "markdown",
      "metadata": {
        "id": "WY1sGNYv0BD8"
      },
      "source": [
        "Mỗi dòng cho biết thông tin của một user và không có vấn đề các dòng có ý nghĩa khác nhau."
      ]
    },
    {
      "cell_type": "markdown",
      "source": [
        ""
      ],
      "metadata": {
        "id": "G-xsTPjgMqfE"
      }
    },
    {
      "cell_type": "markdown",
      "metadata": {
        "id": "QyLs-LxU0BD9"
      },
      "source": [
        "###**Mỗi cột có ý nghĩa gì?**"
      ]
    },
    {
      "cell_type": "markdown",
      "metadata": {
        "id": "Vf0bHOxz4NxL"
      },
      "source": [
        "<table>\n",
        "<thead>\n",
        "<tr>\n",
        "<th align=\"center\">Thuộc tính</th>\n",
        "<th align=\"center\">Kiểu dữ liệu</th>\n",
        "<th align=\"center\">Ý nghĩa</th>\n",
        "<th align=\"center\">Miền giá trị</th>\n",
        "</tr>\n",
        "</thead>\n",
        "<tbody><tr>\n",
        "<td align=\"center\">id</td>\n",
        "<td align=\"center\">string</td>\n",
        "<td align=\"center\">id của track</td>\n",
        "<td align=\"center\"></td>\n",
        "</tr>\n",
        "<tr>\n",
        "<td align=\"center\">title</td>\n",
        "<td align=\"center\">string</td>\n",
        "<td align=\"center\">tiêu đề của track</td>\n",
        "<td align=\"center\"></td>\n",
        "</tr>\n",
        "<tr>\n",
        "<td align=\"center\">description</td>\n",
        "<td align=\"center\">string</td>\n",
        "<td align=\"center\">mô tả track</td>\n",
        "<td align=\"center\"></td>\n",
        "</tr>\n",
        "<tr>\n",
        "<td align=\"center\">duration</td>\n",
        "<td align=\"center\">category</td>\n",
        "<td align=\"center\">thời lượng track</td>\n",
        "<td align=\"center\"></td>\n",
        "</tr>\n",
        "<tr>\n",
        "<td align=\"center\">genre</td>\n",
        "<td align=\"center\">string</td>\n",
        "<td align=\"center\">loại track</td>\n",
        "<td align=\"center\"></td>\n",
        "</tr>\n",
        "<tr>\n",
        "<td align=\"center\">tag_list</td>\n",
        "<td align=\"center\">string</td>\n",
        "<td align=\"center\">danh sách liên quan</td>\n",
        "<td align=\"center\"></td>\n",
        "</tr>\n",
        "<tr>\n",
        "<td align=\"center\">user_id</td>\n",
        "<td align=\"center\">string</td>\n",
        "<td align=\"center\">id của người chủ trách</td>\n",
        "<td align=\"center\"></td>\n",
        "</tr>\n",
        "<tr>\n",
        "<td align=\"center\">album_title</td>\n",
        "<td align=\"center\">string</td>\n",
        "<td align=\"center\">tiêu đề album</td>\n",
        "<td align=\"center\"></td>\n",
        "</tr>\n",
        "<tr>\n",
        "<td align=\"center\">created_at</td>\n",
        "<td align=\"center\">string</td>\n",
        "<td align=\"center\">ngày tạo track</td>\n",
        "<td align=\"center\"></td>\n",
        "</tr>\n",
        "<tr>\n",
        "<td align=\"center\">last_modified</td>\n",
        "<td align=\"center\">category</td>\n",
        "<td align=\"center\">lần cuối chỉnh sửa</td>\n",
        "<td align=\"center\"></td>\n",
        "</tr>\n",
        "<tr>\n",
        "<td align=\"center\">release_date</td>\n",
        "<td align=\"center\">numeric</td>\n",
        "<td align=\"center\">ngày track xuất hiện</td>\n",
        "<td align=\"center\"></td>\n",
        "</tr>\n",
        "<tr>\n",
        "<td align=\"center\">display_date</td>\n",
        "<td align=\"center\">numeric</td>\n",
        "<td align=\"center\">ngày track xuất hiện trên hệ thống</td>\n",
        "<td align=\"center\">zz</td>\n",
        "</tr>\n",
        "<tr>\n",
        "<td align=\"center\">download_count</td>\n",
        "<td align=\"center\">numeric</td>\n",
        "<td align=\"center\">số lượt tải xuống</td>\n",
        "<td align=\"center\">zz</td>\n",
        "</tr>\n",
        "<tr>\n",
        "<td align=\"center\">likes_count</td>\n",
        "<td align=\"center\">numeric</td>\n",
        "<td align=\"center\">số lượt thích</td>\n",
        "<td align=\"center\">zz</td>\n",
        "</tr>\n",
        "<tr>\n",
        "<td align=\"center\">comments_counts</td>\n",
        "<td align=\"center\">numeric</td>\n",
        "<td align=\"center\">số lượt binh luận</td>\n",
        "<td align=\"center\">zz</td>\n",
        "</tr>\n",
        "<tr>\n",
        "<td align=\"center\">reposts_count</td>\n",
        "<td align=\"center\">numeric</td>\n",
        "<td align=\"center\">số báo cáo của user</td>\n",
        "<td align=\"center\">zz</td>\n",
        "</tr>\n",
        "<tr>\n",
        "<td align=\"center\">playback_count</td>\n",
        "<td align=\"center\">numeric</td>\n",
        "<td align=\"center\">số lượt chạy</td>\n",
        "<td align=\"center\">zz</td>\n",
        "</tr>\n",
        "</tbody></table>"
      ]
    },
    {
      "cell_type": "markdown",
      "metadata": {
        "id": "Ah4AYPsfgWJC"
      },
      "source": [
        "## Tập Playlist"
      ]
    },
    {
      "cell_type": "code",
      "execution_count": null,
      "metadata": {
        "colab": {
          "base_uri": "https://localhost:8080/"
        },
        "id": "ooqjBUwLiliI",
        "outputId": "859602e2-da90-42cd-b019-befedcb7ff54"
      },
      "outputs": [
        {
          "output_type": "execute_result",
          "data": {
            "text/html": [
              "<div>\n",
              "<style scoped>\n",
              "    .dataframe tbody tr th:only-of-type {\n",
              "        vertical-align: middle;\n",
              "    }\n",
              "\n",
              "    .dataframe tbody tr th {\n",
              "        vertical-align: top;\n",
              "    }\n",
              "\n",
              "    .dataframe thead th {\n",
              "        text-align: right;\n",
              "    }\n",
              "</style>\n",
              "<table border=\"1\" class=\"dataframe\">\n",
              "  <thead>\n",
              "    <tr style=\"text-align: right;\">\n",
              "      <th></th>\n",
              "      <th>id</th>\n",
              "      <th>title</th>\n",
              "      <th>description</th>\n",
              "      <th>duration</th>\n",
              "      <th>permalink_url</th>\n",
              "      <th>genre</th>\n",
              "      <th>artwork_url</th>\n",
              "      <th>tag_list</th>\n",
              "      <th>user_id</th>\n",
              "      <th>created_at</th>\n",
              "      <th>last_modified</th>\n",
              "      <th>release_date</th>\n",
              "      <th>display_date</th>\n",
              "      <th>tracks</th>\n",
              "      <th>track_count</th>\n",
              "      <th>likes_count</th>\n",
              "      <th>reposts_count</th>\n",
              "    </tr>\n",
              "  </thead>\n",
              "  <tbody>\n",
              "    <tr>\n",
              "      <th>0</th>\n",
              "      <td>88273524</td>\n",
              "      <td>Music</td>\n",
              "      <td>NaN</td>\n",
              "      <td>1895590</td>\n",
              "      <td>https://soundcloud.com/merkz-mercado/sets/music</td>\n",
              "      <td>NaN</td>\n",
              "      <td>NaN</td>\n",
              "      <td>NaN</td>\n",
              "      <td>142397750</td>\n",
              "      <td>2015-03-11T04:02:21Z</td>\n",
              "      <td>2015-03-11T04:02:21Z</td>\n",
              "      <td>NaN</td>\n",
              "      <td>2015-03-11T04:02:21Z</td>\n",
              "      <td>44168362, 97656500,</td>\n",
              "      <td>2</td>\n",
              "      <td>0</td>\n",
              "      <td>0</td>\n",
              "    </tr>\n",
              "    <tr>\n",
              "      <th>1</th>\n",
              "      <td>87994031</td>\n",
              "      <td>Merkz Beats</td>\n",
              "      <td>NaN</td>\n",
              "      <td>0</td>\n",
              "      <td>https://soundcloud.com/merkz-mercado/sets/merk...</td>\n",
              "      <td>NaN</td>\n",
              "      <td>NaN</td>\n",
              "      <td>NaN</td>\n",
              "      <td>142397750</td>\n",
              "      <td>2015-03-10T05:55:45Z</td>\n",
              "      <td>2015-03-10T05:55:45Z</td>\n",
              "      <td>NaN</td>\n",
              "      <td>2015-03-10T05:55:45Z</td>\n",
              "      <td>NaN</td>\n",
              "      <td>0</td>\n",
              "      <td>0</td>\n",
              "      <td>0</td>\n",
              "    </tr>\n",
              "    <tr>\n",
              "      <th>2</th>\n",
              "      <td>356937925</td>\n",
              "      <td>New Music🎶</td>\n",
              "      <td>NaN</td>\n",
              "      <td>3539963</td>\n",
              "      <td>https://soundcloud.com/merkz-mercado-483064581...</td>\n",
              "      <td>NaN</td>\n",
              "      <td>NaN</td>\n",
              "      <td>NaN</td>\n",
              "      <td>284136548</td>\n",
              "      <td>2017-10-02T10:23:14Z</td>\n",
              "      <td>2017-10-02T10:23:14Z</td>\n",
              "      <td>NaN</td>\n",
              "      <td>2017-10-02T10:23:14Z</td>\n",
              "      <td>344529390, 315549497, 307984539, 343430075, 19...</td>\n",
              "      <td>16</td>\n",
              "      <td>0</td>\n",
              "      <td>0</td>\n",
              "    </tr>\n",
              "    <tr>\n",
              "      <th>3</th>\n",
              "      <td>335734497</td>\n",
              "      <td>MerkZ 719</td>\n",
              "      <td>NaN</td>\n",
              "      <td>8802142</td>\n",
              "      <td>https://soundcloud.com/merkz-mercado-483064581...</td>\n",
              "      <td>NaN</td>\n",
              "      <td>NaN</td>\n",
              "      <td>NaN</td>\n",
              "      <td>284136548</td>\n",
              "      <td>2017-07-06T04:34:28Z</td>\n",
              "      <td>2017-07-06T04:34:28Z</td>\n",
              "      <td>NaN</td>\n",
              "      <td>2017-07-06T04:34:28Z</td>\n",
              "      <td>309689093, 321622679, 263980205, 290136983, 29...</td>\n",
              "      <td>41</td>\n",
              "      <td>1</td>\n",
              "      <td>0</td>\n",
              "    </tr>\n",
              "    <tr>\n",
              "      <th>4</th>\n",
              "      <td>93243423</td>\n",
              "      <td>merkin em</td>\n",
              "      <td>NaN</td>\n",
              "      <td>1290171</td>\n",
              "      <td>https://soundcloud.com/merkz44th/sets/merkin-em</td>\n",
              "      <td>NaN</td>\n",
              "      <td>NaN</td>\n",
              "      <td>NaN</td>\n",
              "      <td>145257193</td>\n",
              "      <td>2015-03-27T20:16:10Z</td>\n",
              "      <td>2015-03-27T20:16:11Z</td>\n",
              "      <td>NaN</td>\n",
              "      <td>2015-03-27T20:16:10Z</td>\n",
              "      <td>194471328, 187105448, 102381741, 134903313,</td>\n",
              "      <td>4</td>\n",
              "      <td>1</td>\n",
              "      <td>0</td>\n",
              "    </tr>\n",
              "  </tbody>\n",
              "</table>\n",
              "</div>"
            ],
            "text/plain": [
              "          id        title description  ...  track_count likes_count reposts_count\n",
              "0   88273524        Music         NaN  ...            2           0             0\n",
              "1   87994031  Merkz Beats         NaN  ...            0           0             0\n",
              "2  356937925   New Music🎶         NaN  ...           16           0             0\n",
              "3  335734497    MerkZ 719         NaN  ...           41           1             0\n",
              "4   93243423    merkin em         NaN  ...            4           1             0\n",
              "\n",
              "[5 rows x 17 columns]"
            ]
          },
          "metadata": {},
          "execution_count": 580
        }
      ],
      "source": [
        "playlist_df = pd.read_csv('playlist.csv')\n",
        "playlist_df.head()"
      ]
    },
    {
      "cell_type": "markdown",
      "metadata": {
        "id": "kPknqLBB0QjN"
      },
      "source": [
        "###**Dữ liệu có bao nhiêu dòng và bao nhiêu cột?**"
      ]
    },
    {
      "cell_type": "code",
      "execution_count": null,
      "metadata": {
        "colab": {
          "base_uri": "https://localhost:8080/"
        },
        "id": "1Xg4VKf30QjO",
        "outputId": "2a862868-2b81-4705-9660-497922d52129"
      },
      "outputs": [
        {
          "output_type": "execute_result",
          "data": {
            "text/plain": [
              "(1100, 17)"
            ]
          },
          "metadata": {},
          "execution_count": 581
        }
      ],
      "source": [
        "playlist_df.shape"
      ]
    },
    {
      "cell_type": "markdown",
      "metadata": {
        "id": "lmZSnQQO0QjO"
      },
      "source": [
        "Vậy tập User có 1100 dòng và 26 cột"
      ]
    },
    {
      "cell_type": "markdown",
      "metadata": {
        "id": "XxYXTwDH0QjP"
      },
      "source": [
        "###**Dữ liệu có các dòng bị lặp không?**"
      ]
    },
    {
      "cell_type": "code",
      "execution_count": null,
      "metadata": {
        "colab": {
          "base_uri": "https://localhost:8080/"
        },
        "id": "wqUI-rPw0QjP",
        "outputId": "467443c8-2906-4b76-cffc-727541f65355"
      },
      "outputs": [
        {
          "output_type": "execute_result",
          "data": {
            "text/plain": [
              "0"
            ]
          },
          "metadata": {},
          "execution_count": 582
        }
      ],
      "source": [
        "playlist_df.duplicated().sum()"
      ]
    },
    {
      "cell_type": "markdown",
      "metadata": {
        "id": "t45OBYiw0QjP"
      },
      "source": [
        "Vậy tập User không có dòng nào lặp"
      ]
    },
    {
      "cell_type": "markdown",
      "metadata": {
        "id": "mEwP4E1_0QjP"
      },
      "source": [
        "###**Mỗi dòng có ý nghĩa gì? Có vấn đề các dòng có ý nghĩa khác nhau không?**"
      ]
    },
    {
      "cell_type": "markdown",
      "metadata": {
        "id": "2u9U44cX0QjP"
      },
      "source": [
        "Mỗi dòng cho biết thông tin của một user và không có vấn đề các dòng có ý nghĩa khác nhau."
      ]
    },
    {
      "cell_type": "markdown",
      "metadata": {
        "id": "tp5pu6100QjP"
      },
      "source": [
        "###**Mỗi cột có ý nghĩa gì?**"
      ]
    },
    {
      "cell_type": "markdown",
      "metadata": {
        "id": "ZnlRnhVF7TtL"
      },
      "source": [
        "|Thuộc tính|Kiểu dữ liệu| Ý nghĩa |Miền giá trị |\n",
        "|:---:|:---:|:---:|:---:|\n",
        "|id|string|định danh của danh sách phát||\n",
        "|title|string|tiêu đề của danh sách phát ||\n",
        "|description|string|mô tả của danh sách phát||\n",
        "|duration|category|thời lượng||\n",
        "|genre|string|thể loại||\n",
        "|tag_list|string|danh sách liên quan||\n",
        "|user_id|string|id của người sở hữu||\n",
        "|created_at|string|ngày tạo||\n",
        "|last_modified|category|lần cuối chỉnh sửa||\n",
        "|release_date|numeric|ngày sản xuất||\n",
        "|display_date|numeric|ngày track xuất hiện trên hệ thống|zz|\n",
        "|tracks|numeric|mảng id track|zz|\n",
        "|track_count|numeric|số track trong playlist|zz|\n",
        "|likes_count|numeric|số lượt thích|zz|\n",
        "|reposts_count|numeric|số báo cáo của user|zz|\n"
      ]
    },
    {
      "cell_type": "markdown",
      "metadata": {
        "id": "oyaZDWHYwIW1"
      },
      "source": [
        "#Data Cleaning"
      ]
    },
    {
      "cell_type": "markdown",
      "metadata": {
        "id": "iGg6cPI2gLWJ"
      },
      "source": [
        "## Tập user"
      ]
    },
    {
      "cell_type": "markdown",
      "metadata": {
        "id": "lL5w5XoZup7H"
      },
      "source": [
        "###**Dữ liệu thiếu không ?**"
      ]
    },
    {
      "cell_type": "code",
      "execution_count": null,
      "metadata": {
        "colab": {
          "base_uri": "https://localhost:8080/"
        },
        "id": "v_Q9E6LNupD8",
        "outputId": "9132467d-d6b4-4ac1-dd41-db04b8ef78d5"
      },
      "outputs": [
        {
          "output_type": "stream",
          "name": "stdout",
          "text": [
            "country_name : 735 : object\n",
            "username : 1 : object\n",
            "description : 897 : object\n",
            "city : 746 : object\n",
            "visual_url : 844 : object\n",
            "first_name : 308 : object\n",
            "last_name : 356 : object\n",
            "full_name : 308 : object\n",
            "reposts_count : 1100 : float64\n"
          ]
        }
      ],
      "source": [
        "for col in user_df:\n",
        "  if user_df[col].isnull().sum() != 0 :\n",
        "    print(col +' : '+ str(user_df[col].isnull().sum())+' : '+ str(user_df[col].dtypes))"
      ]
    },
    {
      "cell_type": "markdown",
      "metadata": {
        "id": "ESZJ2eeLwy0K"
      },
      "source": [
        "###**Dữ liệu nhiễu không ?**"
      ]
    },
    {
      "cell_type": "markdown",
      "metadata": {
        "id": "j-1jX2exxJkL"
      },
      "source": [
        "*Những dữ liệu người dùng nhập vào gây nhiễu chủ yếu kiểu category"
      ]
    },
    {
      "cell_type": "markdown",
      "metadata": {
        "id": "WJ7cou875Gs0"
      },
      "source": [
        "#Data Integration"
      ]
    },
    {
      "cell_type": "markdown",
      "metadata": {
        "id": "u6KC5jmgxHEu"
      },
      "source": [
        "###**Chọn những trường cần thiết**"
      ]
    },
    {
      "cell_type": "code",
      "execution_count": null,
      "metadata": {
        "colab": {
          "base_uri": "https://localhost:8080/",
          "height": 143
        },
        "id": "-RtnM9gOxpDm",
        "outputId": "81935bfd-09df-49eb-950d-0a700606b970"
      },
      "outputs": [
        {
          "output_type": "execute_result",
          "data": {
            "text/html": [
              "<div>\n",
              "<style scoped>\n",
              "    .dataframe tbody tr th:only-of-type {\n",
              "        vertical-align: middle;\n",
              "    }\n",
              "\n",
              "    .dataframe tbody tr th {\n",
              "        vertical-align: top;\n",
              "    }\n",
              "\n",
              "    .dataframe thead th {\n",
              "        text-align: right;\n",
              "    }\n",
              "</style>\n",
              "<table border=\"1\" class=\"dataframe\">\n",
              "  <thead>\n",
              "    <tr style=\"text-align: right;\">\n",
              "      <th></th>\n",
              "      <th>user_id</th>\n",
              "      <th>playlist_duration</th>\n",
              "      <th>playlist_genre</th>\n",
              "      <th>playlist_tracks</th>\n",
              "      <th>playlist_likes_count</th>\n",
              "      <th>playlist_track_count</th>\n",
              "    </tr>\n",
              "  </thead>\n",
              "  <tbody>\n",
              "    <tr>\n",
              "      <th>0</th>\n",
              "      <td>142397750</td>\n",
              "      <td>1895590</td>\n",
              "      <td>NaN</td>\n",
              "      <td>44168362, 97656500,</td>\n",
              "      <td>0</td>\n",
              "      <td>2</td>\n",
              "    </tr>\n",
              "    <tr>\n",
              "      <th>1</th>\n",
              "      <td>142397750</td>\n",
              "      <td>0</td>\n",
              "      <td>NaN</td>\n",
              "      <td>NaN</td>\n",
              "      <td>0</td>\n",
              "      <td>0</td>\n",
              "    </tr>\n",
              "    <tr>\n",
              "      <th>2</th>\n",
              "      <td>284136548</td>\n",
              "      <td>3539963</td>\n",
              "      <td>NaN</td>\n",
              "      <td>344529390, 315549497, 307984539, 343430075, 19...</td>\n",
              "      <td>0</td>\n",
              "      <td>16</td>\n",
              "    </tr>\n",
              "  </tbody>\n",
              "</table>\n",
              "</div>"
            ],
            "text/plain": [
              "     user_id  playlist_duration  ... playlist_likes_count playlist_track_count\n",
              "0  142397750            1895590  ...                    0                    2\n",
              "1  142397750                  0  ...                    0                    0\n",
              "2  284136548            3539963  ...                    0                   16\n",
              "\n",
              "[3 rows x 6 columns]"
            ]
          },
          "metadata": {},
          "execution_count": 584
        }
      ],
      "source": [
        "selected_playlist_df = playlist_df[['user_id','duration', 'genre', 'tracks', 'likes_count','track_count']]\n",
        "selected_playlist_df.rename(columns={\"duration\": \"playlist_duration\", \"genre\": \"playlist_genre\", 'tracks' : 'playlist_tracks','likes_count' : 'playlist_likes_count','track_count':'playlist_track_count'}, inplace=True)\n",
        "selected_playlist_df.head(3)"
      ]
    },
    {
      "cell_type": "code",
      "execution_count": null,
      "metadata": {
        "colab": {
          "base_uri": "https://localhost:8080/",
          "height": 143
        },
        "id": "TgsG1nbWCXnO",
        "outputId": "e843feee-d93a-4b56-f64c-d253750a998c"
      },
      "outputs": [
        {
          "output_type": "execute_result",
          "data": {
            "text/html": [
              "<div>\n",
              "<style scoped>\n",
              "    .dataframe tbody tr th:only-of-type {\n",
              "        vertical-align: middle;\n",
              "    }\n",
              "\n",
              "    .dataframe tbody tr th {\n",
              "        vertical-align: top;\n",
              "    }\n",
              "\n",
              "    .dataframe thead th {\n",
              "        text-align: right;\n",
              "    }\n",
              "</style>\n",
              "<table border=\"1\" class=\"dataframe\">\n",
              "  <thead>\n",
              "    <tr style=\"text-align: right;\">\n",
              "      <th></th>\n",
              "      <th>user_id</th>\n",
              "      <th>user_country_name</th>\n",
              "      <th>user_creator_subscription</th>\n",
              "      <th>user_followers_count</th>\n",
              "      <th>user_likes_count</th>\n",
              "      <th>user_track_count</th>\n",
              "      <th>user_playlist_count</th>\n",
              "    </tr>\n",
              "  </thead>\n",
              "  <tbody>\n",
              "    <tr>\n",
              "      <th>0</th>\n",
              "      <td>768877975</td>\n",
              "      <td>United Kingdom</td>\n",
              "      <td>free</td>\n",
              "      <td>20</td>\n",
              "      <td>1</td>\n",
              "      <td>3</td>\n",
              "      <td>0</td>\n",
              "    </tr>\n",
              "    <tr>\n",
              "      <th>1</th>\n",
              "      <td>1197130</td>\n",
              "      <td>United Kingdom</td>\n",
              "      <td>free</td>\n",
              "      <td>53</td>\n",
              "      <td>190</td>\n",
              "      <td>5</td>\n",
              "      <td>0</td>\n",
              "    </tr>\n",
              "    <tr>\n",
              "      <th>2</th>\n",
              "      <td>22203417</td>\n",
              "      <td>United Kingdom</td>\n",
              "      <td>free</td>\n",
              "      <td>1</td>\n",
              "      <td>1</td>\n",
              "      <td>2</td>\n",
              "      <td>0</td>\n",
              "    </tr>\n",
              "  </tbody>\n",
              "</table>\n",
              "</div>"
            ],
            "text/plain": [
              "     user_id user_country_name  ... user_track_count  user_playlist_count\n",
              "0  768877975    United Kingdom  ...                3                    0\n",
              "1    1197130    United Kingdom  ...                5                    0\n",
              "2   22203417    United Kingdom  ...                2                    0\n",
              "\n",
              "[3 rows x 7 columns]"
            ]
          },
          "metadata": {},
          "execution_count": 585
        }
      ],
      "source": [
        "selected_user_df = user_df[['user_id','country_name', 'creator_subscription', 'followers_count', 'likes_count','track_count','playlist_count']]\n",
        "selected_user_df.rename(columns={\"country_name\": \"user_country_name\", \"creator_subscription\": \"user_creator_subscription\", 'followers_count' : 'user_followers_count','likes_count' : 'user_likes_count','track_count':'user_track_count','playlist_count':'user_playlist_count'}, inplace=True)\n",
        "selected_user_df.head(3)"
      ]
    },
    {
      "cell_type": "code",
      "execution_count": null,
      "metadata": {
        "colab": {
          "base_uri": "https://localhost:8080/",
          "height": 284
        },
        "id": "aPP1YUQlCxFU",
        "outputId": "e3cb9e2b-181d-4ccf-f258-b0c568f0a022"
      },
      "outputs": [
        {
          "output_type": "execute_result",
          "data": {
            "text/html": [
              "<div>\n",
              "<style scoped>\n",
              "    .dataframe tbody tr th:only-of-type {\n",
              "        vertical-align: middle;\n",
              "    }\n",
              "\n",
              "    .dataframe tbody tr th {\n",
              "        vertical-align: top;\n",
              "    }\n",
              "\n",
              "    .dataframe thead th {\n",
              "        text-align: right;\n",
              "    }\n",
              "</style>\n",
              "<table border=\"1\" class=\"dataframe\">\n",
              "  <thead>\n",
              "    <tr style=\"text-align: right;\">\n",
              "      <th></th>\n",
              "      <th>user_id</th>\n",
              "      <th>track_duration</th>\n",
              "      <th>track_genre</th>\n",
              "      <th>track_tag_list</th>\n",
              "      <th>track_display_date</th>\n",
              "      <th>track_download_count</th>\n",
              "      <th>track_likes_count</th>\n",
              "      <th>track_playback_count</th>\n",
              "      <th>track_comment_count</th>\n",
              "    </tr>\n",
              "  </thead>\n",
              "  <tbody>\n",
              "    <tr>\n",
              "      <th>0</th>\n",
              "      <td>768877975</td>\n",
              "      <td>1436186</td>\n",
              "      <td>Garage</td>\n",
              "      <td>XDJ-RX2 Grime ukf Uk Funky 140 Garage</td>\n",
              "      <td>2020-03-30T16:28:09Z</td>\n",
              "      <td>0</td>\n",
              "      <td>5</td>\n",
              "      <td>75</td>\n",
              "      <td>0</td>\n",
              "    </tr>\n",
              "    <tr>\n",
              "      <th>1</th>\n",
              "      <td>768877975</td>\n",
              "      <td>1285068</td>\n",
              "      <td>Drum &amp; Bass</td>\n",
              "      <td>dnb liquid Mix rollers Jungle \"jump up\" \"Drum ...</td>\n",
              "      <td>2020-03-18T18:31:24Z</td>\n",
              "      <td>0</td>\n",
              "      <td>8</td>\n",
              "      <td>90</td>\n",
              "      <td>0</td>\n",
              "    </tr>\n",
              "    <tr>\n",
              "      <th>2</th>\n",
              "      <td>768877975</td>\n",
              "      <td>2019709</td>\n",
              "      <td>Drum &amp; Bass</td>\n",
              "      <td>Dnb Drums bass jumpup rollers jungle electrontic</td>\n",
              "      <td>2020-01-26T16:26:53Z</td>\n",
              "      <td>0</td>\n",
              "      <td>16</td>\n",
              "      <td>182</td>\n",
              "      <td>2</td>\n",
              "    </tr>\n",
              "  </tbody>\n",
              "</table>\n",
              "</div>"
            ],
            "text/plain": [
              "     user_id  track_duration  ... track_playback_count track_comment_count\n",
              "0  768877975         1436186  ...                   75                   0\n",
              "1  768877975         1285068  ...                   90                   0\n",
              "2  768877975         2019709  ...                  182                   2\n",
              "\n",
              "[3 rows x 9 columns]"
            ]
          },
          "metadata": {},
          "execution_count": 586
        }
      ],
      "source": [
        "selected_track_df = track_df[['user_id','duration', 'genre', 'tag_list', 'display_date', 'download_count', 'likes_count', 'playback_count','comment_count']]\n",
        "selected_track_df.rename(columns={\"duration\": \"track_duration\", \"genre\": \"track_genre\", 'tag_list' : 'track_tag_list','display_date' : 'track_display_date','download_count' : 'track_download_count','likes_count' : 'track_likes_count','playback_count' : 'track_playback_count','comment_count' : 'track_comment_count'}, inplace=True)\n",
        "selected_track_df.head(3)"
      ]
    },
    {
      "cell_type": "markdown",
      "metadata": {
        "id": "Sedy6dprWLP_"
      },
      "source": [
        "###**So khớp và nhập các bảng**"
      ]
    },
    {
      "cell_type": "code",
      "execution_count": null,
      "metadata": {
        "colab": {
          "base_uri": "https://localhost:8080/",
          "height": 616
        },
        "id": "hm5lHgN4Bizp",
        "outputId": "ab1a77dc-4003-4a35-bc70-3558991125b8"
      },
      "outputs": [
        {
          "output_type": "execute_result",
          "data": {
            "text/html": [
              "<div>\n",
              "<style scoped>\n",
              "    .dataframe tbody tr th:only-of-type {\n",
              "        vertical-align: middle;\n",
              "    }\n",
              "\n",
              "    .dataframe tbody tr th {\n",
              "        vertical-align: top;\n",
              "    }\n",
              "\n",
              "    .dataframe thead th {\n",
              "        text-align: right;\n",
              "    }\n",
              "</style>\n",
              "<table border=\"1\" class=\"dataframe\">\n",
              "  <thead>\n",
              "    <tr style=\"text-align: right;\">\n",
              "      <th></th>\n",
              "      <th>user_id</th>\n",
              "      <th>user_country_name</th>\n",
              "      <th>user_creator_subscription</th>\n",
              "      <th>user_followers_count</th>\n",
              "      <th>user_likes_count</th>\n",
              "      <th>user_track_count</th>\n",
              "      <th>user_playlist_count</th>\n",
              "      <th>playlist_duration</th>\n",
              "      <th>playlist_genre</th>\n",
              "      <th>playlist_tracks</th>\n",
              "      <th>playlist_likes_count</th>\n",
              "      <th>playlist_track_count</th>\n",
              "      <th>track_duration</th>\n",
              "      <th>track_genre</th>\n",
              "      <th>track_tag_list</th>\n",
              "      <th>track_display_date</th>\n",
              "      <th>track_download_count</th>\n",
              "      <th>track_likes_count</th>\n",
              "      <th>track_playback_count</th>\n",
              "      <th>track_comment_count</th>\n",
              "    </tr>\n",
              "  </thead>\n",
              "  <tbody>\n",
              "    <tr>\n",
              "      <th>0</th>\n",
              "      <td>768877975</td>\n",
              "      <td>United Kingdom</td>\n",
              "      <td>free</td>\n",
              "      <td>20</td>\n",
              "      <td>1</td>\n",
              "      <td>3</td>\n",
              "      <td>0</td>\n",
              "      <td>NaN</td>\n",
              "      <td>NaN</td>\n",
              "      <td>NaN</td>\n",
              "      <td>NaN</td>\n",
              "      <td>NaN</td>\n",
              "      <td>1436186.0</td>\n",
              "      <td>Garage</td>\n",
              "      <td>XDJ-RX2 Grime ukf Uk Funky 140 Garage</td>\n",
              "      <td>2020-03-30T16:28:09Z</td>\n",
              "      <td>0.0</td>\n",
              "      <td>5.0</td>\n",
              "      <td>75.0</td>\n",
              "      <td>0.0</td>\n",
              "    </tr>\n",
              "    <tr>\n",
              "      <th>1</th>\n",
              "      <td>768877975</td>\n",
              "      <td>United Kingdom</td>\n",
              "      <td>free</td>\n",
              "      <td>20</td>\n",
              "      <td>1</td>\n",
              "      <td>3</td>\n",
              "      <td>0</td>\n",
              "      <td>NaN</td>\n",
              "      <td>NaN</td>\n",
              "      <td>NaN</td>\n",
              "      <td>NaN</td>\n",
              "      <td>NaN</td>\n",
              "      <td>1285068.0</td>\n",
              "      <td>Drum &amp; Bass</td>\n",
              "      <td>dnb liquid Mix rollers Jungle \"jump up\" \"Drum ...</td>\n",
              "      <td>2020-03-18T18:31:24Z</td>\n",
              "      <td>0.0</td>\n",
              "      <td>8.0</td>\n",
              "      <td>90.0</td>\n",
              "      <td>0.0</td>\n",
              "    </tr>\n",
              "    <tr>\n",
              "      <th>2</th>\n",
              "      <td>768877975</td>\n",
              "      <td>United Kingdom</td>\n",
              "      <td>free</td>\n",
              "      <td>20</td>\n",
              "      <td>1</td>\n",
              "      <td>3</td>\n",
              "      <td>0</td>\n",
              "      <td>NaN</td>\n",
              "      <td>NaN</td>\n",
              "      <td>NaN</td>\n",
              "      <td>NaN</td>\n",
              "      <td>NaN</td>\n",
              "      <td>2019709.0</td>\n",
              "      <td>Drum &amp; Bass</td>\n",
              "      <td>Dnb Drums bass jumpup rollers jungle electrontic</td>\n",
              "      <td>2020-01-26T16:26:53Z</td>\n",
              "      <td>0.0</td>\n",
              "      <td>16.0</td>\n",
              "      <td>182.0</td>\n",
              "      <td>2.0</td>\n",
              "    </tr>\n",
              "    <tr>\n",
              "      <th>3</th>\n",
              "      <td>1197130</td>\n",
              "      <td>United Kingdom</td>\n",
              "      <td>free</td>\n",
              "      <td>53</td>\n",
              "      <td>190</td>\n",
              "      <td>5</td>\n",
              "      <td>0</td>\n",
              "      <td>NaN</td>\n",
              "      <td>NaN</td>\n",
              "      <td>NaN</td>\n",
              "      <td>NaN</td>\n",
              "      <td>NaN</td>\n",
              "      <td>324223.0</td>\n",
              "      <td>Hiphop</td>\n",
              "      <td>NaN</td>\n",
              "      <td>2012-02-23T16:18:56Z</td>\n",
              "      <td>0.0</td>\n",
              "      <td>2.0</td>\n",
              "      <td>155.0</td>\n",
              "      <td>0.0</td>\n",
              "    </tr>\n",
              "    <tr>\n",
              "      <th>4</th>\n",
              "      <td>1197130</td>\n",
              "      <td>United Kingdom</td>\n",
              "      <td>free</td>\n",
              "      <td>53</td>\n",
              "      <td>190</td>\n",
              "      <td>5</td>\n",
              "      <td>0</td>\n",
              "      <td>NaN</td>\n",
              "      <td>NaN</td>\n",
              "      <td>NaN</td>\n",
              "      <td>NaN</td>\n",
              "      <td>NaN</td>\n",
              "      <td>157996.0</td>\n",
              "      <td>Grime</td>\n",
              "      <td>NaN</td>\n",
              "      <td>2012-02-23T16:13:55Z</td>\n",
              "      <td>17.0</td>\n",
              "      <td>4.0</td>\n",
              "      <td>277.0</td>\n",
              "      <td>0.0</td>\n",
              "    </tr>\n",
              "    <tr>\n",
              "      <th>...</th>\n",
              "      <td>...</td>\n",
              "      <td>...</td>\n",
              "      <td>...</td>\n",
              "      <td>...</td>\n",
              "      <td>...</td>\n",
              "      <td>...</td>\n",
              "      <td>...</td>\n",
              "      <td>...</td>\n",
              "      <td>...</td>\n",
              "      <td>...</td>\n",
              "      <td>...</td>\n",
              "      <td>...</td>\n",
              "      <td>...</td>\n",
              "      <td>...</td>\n",
              "      <td>...</td>\n",
              "      <td>...</td>\n",
              "      <td>...</td>\n",
              "      <td>...</td>\n",
              "      <td>...</td>\n",
              "      <td>...</td>\n",
              "    </tr>\n",
              "    <tr>\n",
              "      <th>2454</th>\n",
              "      <td>813911197</td>\n",
              "      <td>Gabon</td>\n",
              "      <td>free</td>\n",
              "      <td>15</td>\n",
              "      <td>29</td>\n",
              "      <td>19</td>\n",
              "      <td>0</td>\n",
              "      <td>NaN</td>\n",
              "      <td>NaN</td>\n",
              "      <td>NaN</td>\n",
              "      <td>NaN</td>\n",
              "      <td>NaN</td>\n",
              "      <td>NaN</td>\n",
              "      <td>NaN</td>\n",
              "      <td>NaN</td>\n",
              "      <td>NaN</td>\n",
              "      <td>NaN</td>\n",
              "      <td>NaN</td>\n",
              "      <td>NaN</td>\n",
              "      <td>NaN</td>\n",
              "    </tr>\n",
              "    <tr>\n",
              "      <th>2455</th>\n",
              "      <td>14202091</td>\n",
              "      <td>Costa Rica</td>\n",
              "      <td>free</td>\n",
              "      <td>18</td>\n",
              "      <td>4</td>\n",
              "      <td>2</td>\n",
              "      <td>0</td>\n",
              "      <td>NaN</td>\n",
              "      <td>NaN</td>\n",
              "      <td>NaN</td>\n",
              "      <td>NaN</td>\n",
              "      <td>NaN</td>\n",
              "      <td>NaN</td>\n",
              "      <td>NaN</td>\n",
              "      <td>NaN</td>\n",
              "      <td>NaN</td>\n",
              "      <td>NaN</td>\n",
              "      <td>NaN</td>\n",
              "      <td>NaN</td>\n",
              "      <td>NaN</td>\n",
              "    </tr>\n",
              "    <tr>\n",
              "      <th>2456</th>\n",
              "      <td>1150012</td>\n",
              "      <td>Sweden</td>\n",
              "      <td>free</td>\n",
              "      <td>5</td>\n",
              "      <td>3</td>\n",
              "      <td>4</td>\n",
              "      <td>0</td>\n",
              "      <td>NaN</td>\n",
              "      <td>NaN</td>\n",
              "      <td>NaN</td>\n",
              "      <td>NaN</td>\n",
              "      <td>NaN</td>\n",
              "      <td>NaN</td>\n",
              "      <td>NaN</td>\n",
              "      <td>NaN</td>\n",
              "      <td>NaN</td>\n",
              "      <td>NaN</td>\n",
              "      <td>NaN</td>\n",
              "      <td>NaN</td>\n",
              "      <td>NaN</td>\n",
              "    </tr>\n",
              "    <tr>\n",
              "      <th>2457</th>\n",
              "      <td>26262353</td>\n",
              "      <td>Italy</td>\n",
              "      <td>free</td>\n",
              "      <td>0</td>\n",
              "      <td>1</td>\n",
              "      <td>2</td>\n",
              "      <td>0</td>\n",
              "      <td>NaN</td>\n",
              "      <td>NaN</td>\n",
              "      <td>NaN</td>\n",
              "      <td>NaN</td>\n",
              "      <td>NaN</td>\n",
              "      <td>NaN</td>\n",
              "      <td>NaN</td>\n",
              "      <td>NaN</td>\n",
              "      <td>NaN</td>\n",
              "      <td>NaN</td>\n",
              "      <td>NaN</td>\n",
              "      <td>NaN</td>\n",
              "      <td>NaN</td>\n",
              "    </tr>\n",
              "    <tr>\n",
              "      <th>2458</th>\n",
              "      <td>480221871</td>\n",
              "      <td>Micronesia, Federated States of</td>\n",
              "      <td>free</td>\n",
              "      <td>72</td>\n",
              "      <td>0</td>\n",
              "      <td>22</td>\n",
              "      <td>0</td>\n",
              "      <td>NaN</td>\n",
              "      <td>NaN</td>\n",
              "      <td>NaN</td>\n",
              "      <td>NaN</td>\n",
              "      <td>NaN</td>\n",
              "      <td>NaN</td>\n",
              "      <td>NaN</td>\n",
              "      <td>NaN</td>\n",
              "      <td>NaN</td>\n",
              "      <td>NaN</td>\n",
              "      <td>NaN</td>\n",
              "      <td>NaN</td>\n",
              "      <td>NaN</td>\n",
              "    </tr>\n",
              "  </tbody>\n",
              "</table>\n",
              "<p>2459 rows × 20 columns</p>\n",
              "</div>"
            ],
            "text/plain": [
              "        user_id  ... track_comment_count\n",
              "0     768877975  ...                 0.0\n",
              "1     768877975  ...                 0.0\n",
              "2     768877975  ...                 2.0\n",
              "3       1197130  ...                 0.0\n",
              "4       1197130  ...                 0.0\n",
              "...         ...  ...                 ...\n",
              "2454  813911197  ...                 NaN\n",
              "2455   14202091  ...                 NaN\n",
              "2456    1150012  ...                 NaN\n",
              "2457   26262353  ...                 NaN\n",
              "2458  480221871  ...                 NaN\n",
              "\n",
              "[2459 rows x 20 columns]"
            ]
          },
          "metadata": {},
          "execution_count": 587
        }
      ],
      "source": [
        "df = pd.merge(selected_user_df, selected_playlist_df, on='user_id',how='left')\n",
        "df = pd.merge(df, selected_track_df, on='user_id',how='outer')\n",
        "df"
      ]
    },
    {
      "cell_type": "markdown",
      "metadata": {
        "id": "4zgGKBbb2N1L"
      },
      "source": [
        "#Trực quan hoá và phân tích"
      ]
    },
    {
      "cell_type": "code",
      "execution_count": null,
      "metadata": {
        "colab": {
          "base_uri": "https://localhost:8080/",
          "height": 696
        },
        "id": "keWnEa-SZx5M",
        "outputId": "29bb1b2f-e0c7-4d1f-dad1-6b437286ddd9"
      },
      "outputs": [
        {
          "output_type": "display_data",
          "data": {
            "image/png": "[encoded data removed]",
            "text/plain": [
              "<Figure size 720x720 with 2 Axes>"
            ]
          },
          "metadata": {
            "needs_background": "light"
          }
        }
      ],
      "source": [
        "corr = df.corr()\n",
        "plt.figure(figsize=(10, 10))\n",
        "sns.heatmap(corr, annot=True);"
      ]
    },
    {
      "cell_type": "code",
      "execution_count": null,
      "metadata": {
        "id": "Eh6JTz6T4NIt"
      },
      "outputs": [],
      "source": [
        "# Hàm loại outlier với 95% độ chính xác cho kiểu số\n",
        "def percentile95_numerical(df,col):\n",
        "  min_quant = df[col].quantile(.025)\n",
        "  max_quant = df[col].quantile(.975)\n",
        "  return df[(df[col]>min_quant) & (df[col]<max_quant)]"
      ]
    },
    {
      "cell_type": "code",
      "execution_count": null,
      "metadata": {
        "id": "HW7-eatHpDlM"
      },
      "outputs": [],
      "source": [
        "# Hàm loại outlier với 95% độ chính xác cho kiểu định danh\n",
        "def percentile95_categorical(df,col):\n",
        "  count_df = df[col].value_counts();  # Tính tần số theo thế loại\n",
        "  count_df = count_df.sort_values(ascending=True); # Lấy top 20 và sắp xếp tăng\n",
        "  k = len(df) * 0.05;\n",
        "  sum = 0;\n",
        "  value = 0\n",
        "\n",
        "  while(True):\n",
        "    value = count_df.iloc[0];\n",
        "    sum += value;\n",
        "    count_df.drop(count_df.head(1).index, inplace=True)\n",
        "    # print(count_df.head(1))\n",
        "    if sum > k :\n",
        "      break;\n",
        "\n",
        "  while(True):\n",
        "    if count_df.iloc[0] == value:\n",
        "      count_df.drop(count_df.head(1).index, inplace=True)\n",
        "    else:\n",
        "        break;\n",
        "\n",
        "  return df[df[col].isin(count_df.index.values)]"
      ]
    },
    {
      "cell_type": "markdown",
      "metadata": {
        "id": "La1GycAYeLS7"
      },
      "source": [
        "## Câu hỏi 1 : Thời lượng track nằm trong khoảng nào thì có số lượt thích nhiều nhất"
      ]
    },
    {
      "cell_type": "markdown",
      "source": [
        "* Chọn những trường cần xử lý và loại bỏ giá trị NULL"
      ],
      "metadata": {
        "id": "bz52Cw995D8I"
      }
    },
    {
      "cell_type": "code",
      "execution_count": null,
      "metadata": {
        "id": "fqoHFa0D3YMV"
      },
      "outputs": [],
      "source": [
        "sub_df = df[['track_duration','track_likes_count']]\n",
        "sub_df = sub_df[sub_df['track_duration'].notna()]"
      ]
    },
    {
      "cell_type": "markdown",
      "metadata": {
        "id": "QSyx3dKd2yYy"
      },
      "source": [
        "####1. Phân tích đơn biến\n"
      ]
    },
    {
      "cell_type": "code",
      "execution_count": null,
      "metadata": {
        "colab": {
          "base_uri": "https://localhost:8080/",
          "height": 300
        },
        "id": "aa2mTIEAQK1-",
        "outputId": "9a73be4d-5396-46e6-d537-ff93407d4f04"
      },
      "outputs": [
        {
          "output_type": "execute_result",
          "data": {
            "text/html": [
              "<div>\n",
              "<style scoped>\n",
              "    .dataframe tbody tr th:only-of-type {\n",
              "        vertical-align: middle;\n",
              "    }\n",
              "\n",
              "    .dataframe tbody tr th {\n",
              "        vertical-align: top;\n",
              "    }\n",
              "\n",
              "    .dataframe thead th {\n",
              "        text-align: right;\n",
              "    }\n",
              "</style>\n",
              "<table border=\"1\" class=\"dataframe\">\n",
              "  <thead>\n",
              "    <tr style=\"text-align: right;\">\n",
              "      <th></th>\n",
              "      <th>track_duration</th>\n",
              "      <th>track_likes_count</th>\n",
              "    </tr>\n",
              "  </thead>\n",
              "  <tbody>\n",
              "    <tr>\n",
              "      <th>count</th>\n",
              "      <td>1438.0</td>\n",
              "      <td>1438.0</td>\n",
              "    </tr>\n",
              "    <tr>\n",
              "      <th>mean</th>\n",
              "      <td>253814.8</td>\n",
              "      <td>21.9</td>\n",
              "    </tr>\n",
              "    <tr>\n",
              "      <th>std</th>\n",
              "      <td>449794.1</td>\n",
              "      <td>180.5</td>\n",
              "    </tr>\n",
              "    <tr>\n",
              "      <th>min</th>\n",
              "      <td>0.0</td>\n",
              "      <td>0.0</td>\n",
              "    </tr>\n",
              "    <tr>\n",
              "      <th>25%</th>\n",
              "      <td>125977.0</td>\n",
              "      <td>0.0</td>\n",
              "    </tr>\n",
              "    <tr>\n",
              "      <th>50%</th>\n",
              "      <td>186396.5</td>\n",
              "      <td>1.0</td>\n",
              "    </tr>\n",
              "    <tr>\n",
              "      <th>75%</th>\n",
              "      <td>241181.0</td>\n",
              "      <td>3.0</td>\n",
              "    </tr>\n",
              "    <tr>\n",
              "      <th>max</th>\n",
              "      <td>8796056.0</td>\n",
              "      <td>3784.0</td>\n",
              "    </tr>\n",
              "  </tbody>\n",
              "</table>\n",
              "</div>"
            ],
            "text/plain": [
              "       track_duration  track_likes_count\n",
              "count          1438.0             1438.0\n",
              "mean         253814.8               21.9\n",
              "std          449794.1              180.5\n",
              "min               0.0                0.0\n",
              "25%          125977.0                0.0\n",
              "50%          186396.5                1.0\n",
              "75%          241181.0                3.0\n",
              "max         8796056.0             3784.0"
            ]
          },
          "metadata": {},
          "execution_count": 592
        }
      ],
      "source": [
        "sub_df.describe().round(1)"
      ]
    },
    {
      "cell_type": "code",
      "execution_count": null,
      "metadata": {
        "id": "qhNtDMA3H7ec"
      },
      "outputs": [],
      "source": [
        "sub_df['track_duration']=sub_df['track_duration']/1000      # thời lượng tính tính theo giây"
      ]
    },
    {
      "cell_type": "code",
      "execution_count": null,
      "metadata": {
        "id": "rcANh57U9EoK"
      },
      "outputs": [],
      "source": [
        "sub_df = percentile95_numerical(sub_df,'track_duration')   # Loại bớt outliner chọn khoảng 95%\n",
        "sub_df = percentile95_numerical(sub_df,'track_likes_count')   # Loại bớt outliner chọn khoảng 95%"
      ]
    },
    {
      "cell_type": "markdown",
      "metadata": {
        "id": "BKPRxG3YPXrh"
      },
      "source": [
        "Trực quan \n"
      ]
    },
    {
      "cell_type": "code",
      "execution_count": null,
      "metadata": {
        "colab": {
          "base_uri": "https://localhost:8080/",
          "height": 335
        },
        "id": "_TR1OGtfRpwm",
        "outputId": "7ea444ee-082e-41ec-c421-1d1542c63fc7"
      },
      "outputs": [
        {
          "output_type": "display_data",
          "data": {
            "image/png": "[encoded data removed]",
            "text/plain": [
              "<Figure size 720x360 with 2 Axes>"
            ]
          },
          "metadata": {
            "needs_background": "light"
          }
        }
      ],
      "source": [
        "sub_df.hist(figsize=(10, 5), bins=50);"
      ]
    },
    {
      "cell_type": "markdown",
      "metadata": {
        "id": "RUnfQKomWrHd"
      },
      "source": [
        "**Nhận xét**<br>\n",
        "- Thời lượng của track phổ biến nhất là khoảng 200 giây (3 phút 20 giây)\n",
        "- Số lượng like của track phổ biến là dưới 10.\n"
      ]
    },
    {
      "cell_type": "markdown",
      "metadata": {
        "id": "MMc_G70h23xr"
      },
      "source": [
        "####2. Phân tích tương quan đa biến"
      ]
    },
    {
      "cell_type": "code",
      "execution_count": null,
      "metadata": {
        "id": "WGnf14miE2QG"
      },
      "outputs": [],
      "source": [
        "# trung bình like với chia thời lượng chia 20 khoảng\n",
        "mean_like_ser = sub_df['track_likes_count'].groupby([pd.qcut(sub_df.track_duration, q=20, precision =0)]).mean() "
      ]
    },
    {
      "cell_type": "markdown",
      "source": [
        "Trực quan\n"
      ],
      "metadata": {
        "id": "aexlxLAk4fAP"
      }
    },
    {
      "cell_type": "code",
      "execution_count": null,
      "metadata": {
        "colab": {
          "base_uri": "https://localhost:8080/",
          "height": 391
        },
        "id": "bXw9A4xQWTCR",
        "outputId": "23323c5d-36de-4dcd-e676-cc3632a2e0f7"
      },
      "outputs": [
        {
          "output_type": "display_data",
          "data": {
            "image/png": "[encoded data removed]",
            "text/plain": [
              "<Figure size 1080x432 with 1 Axes>"
            ]
          },
          "metadata": {
            "needs_background": "light"
          }
        }
      ],
      "source": [
        "mean_like_ser.plot( figsize=(15,6), kind='barh',title='Số lượng like trung bình theo thời lượng track');"
      ]
    },
    {
      "cell_type": "markdown",
      "metadata": {
        "id": "wPJRZMzdAelX"
      },
      "source": [
        "**Nhận xét**<br>\n",
        "- Khoảng thời lượng track được người dùng yêu thích nhất là khoảng từ 207 giây đến 216 giây với số lượng like trung bình là 70\n",
        "- Những track thời lượng dưới 130 thường không nhận được nhiều yêu thích\n"
      ]
    },
    {
      "cell_type": "markdown",
      "metadata": {
        "id": "qjGdgtyVeXir"
      },
      "source": [
        "## Câu hỏi 2 : Playlist thuộc thể loại nào có nhiều lượt thích nhất"
      ]
    },
    {
      "cell_type": "markdown",
      "source": [
        "* Chọn những trường cần xử lý và loại bỏ giá trị NULL"
      ],
      "metadata": {
        "id": "_usgPJpD5RDB"
      }
    },
    {
      "cell_type": "code",
      "execution_count": null,
      "metadata": {
        "cellView": "code",
        "id": "TMVyQf5sGs25"
      },
      "outputs": [],
      "source": [
        "sub_df = df[['playlist_genre','playlist_likes_count']]\n",
        "sub_df = sub_df[sub_df['playlist_genre'].notna()]"
      ]
    },
    {
      "cell_type": "markdown",
      "metadata": {
        "id": "XxWaoynreXi0"
      },
      "source": [
        "####1. Phân tích đơn biến\n"
      ]
    },
    {
      "cell_type": "code",
      "execution_count": null,
      "metadata": {
        "colab": {
          "base_uri": "https://localhost:8080/",
          "height": 300
        },
        "id": "At2Bp6yRGs3B",
        "outputId": "48e93d22-857e-4a34-ab4d-51b1768d342f"
      },
      "outputs": [
        {
          "output_type": "execute_result",
          "data": {
            "text/html": [
              "<div>\n",
              "<style scoped>\n",
              "    .dataframe tbody tr th:only-of-type {\n",
              "        vertical-align: middle;\n",
              "    }\n",
              "\n",
              "    .dataframe tbody tr th {\n",
              "        vertical-align: top;\n",
              "    }\n",
              "\n",
              "    .dataframe thead th {\n",
              "        text-align: right;\n",
              "    }\n",
              "</style>\n",
              "<table border=\"1\" class=\"dataframe\">\n",
              "  <thead>\n",
              "    <tr style=\"text-align: right;\">\n",
              "      <th></th>\n",
              "      <th>playlist_likes_count</th>\n",
              "    </tr>\n",
              "  </thead>\n",
              "  <tbody>\n",
              "    <tr>\n",
              "      <th>count</th>\n",
              "      <td>199.0</td>\n",
              "    </tr>\n",
              "    <tr>\n",
              "      <th>mean</th>\n",
              "      <td>3.5</td>\n",
              "    </tr>\n",
              "    <tr>\n",
              "      <th>std</th>\n",
              "      <td>12.1</td>\n",
              "    </tr>\n",
              "    <tr>\n",
              "      <th>min</th>\n",
              "      <td>0.0</td>\n",
              "    </tr>\n",
              "    <tr>\n",
              "      <th>25%</th>\n",
              "      <td>0.0</td>\n",
              "    </tr>\n",
              "    <tr>\n",
              "      <th>50%</th>\n",
              "      <td>1.0</td>\n",
              "    </tr>\n",
              "    <tr>\n",
              "      <th>75%</th>\n",
              "      <td>3.0</td>\n",
              "    </tr>\n",
              "    <tr>\n",
              "      <th>max</th>\n",
              "      <td>162.0</td>\n",
              "    </tr>\n",
              "  </tbody>\n",
              "</table>\n",
              "</div>"
            ],
            "text/plain": [
              "       playlist_likes_count\n",
              "count                 199.0\n",
              "mean                    3.5\n",
              "std                    12.1\n",
              "min                     0.0\n",
              "25%                     0.0\n",
              "50%                     1.0\n",
              "75%                     3.0\n",
              "max                   162.0"
            ]
          },
          "metadata": {},
          "execution_count": 599
        }
      ],
      "source": [
        "sub_df.describe().round(1)"
      ]
    },
    {
      "cell_type": "code",
      "execution_count": null,
      "metadata": {
        "id": "bIT1hEdTjRyU"
      },
      "outputs": [],
      "source": [
        "sub_df = percentile95_categorical(sub_df, 'playlist_genre');  # Loại bớt outliner chọn khoảng 95%"
      ]
    },
    {
      "cell_type": "markdown",
      "metadata": {
        "id": "aKRPzHHReXi2"
      },
      "source": [
        "Trực quan \n"
      ]
    },
    {
      "cell_type": "code",
      "execution_count": null,
      "metadata": {
        "colab": {
          "base_uri": "https://localhost:8080/",
          "height": 498
        },
        "id": "aOw06XEDHbPi",
        "outputId": "533e434d-2b04-4d30-f4da-29f0f3105ae7"
      },
      "outputs": [
        {
          "output_type": "display_data",
          "data": {
            "image/png": "[encoded data removed]",
            "text/plain": [
              "<Figure size 864x576 with 1 Axes>"
            ]
          },
          "metadata": {
            "needs_background": "light"
          }
        }
      ],
      "source": [
        "count_ser = sub_df['playlist_genre'].value_counts();  # Tính tần số theo thế loại\n",
        "count_ser = count_ser.nlargest(20).sort_values(ascending=True); # Lấy top 20 và sắp xếp tăng\n",
        "count_ser.plot(figsize=(12, 8),kind='barh', title = 'Most popular playlist genre');"
      ]
    },
    {
      "cell_type": "markdown",
      "metadata": {
        "id": "7AB3ufLOJiV8"
      },
      "source": [
        "**Nhận xét**<br>\n",
        "- Những thể loại playlist phố biến là Electronic, Hip Hop, Rock, Rap\n",
        "- Thể loại playlist phố biến nhất là Electronic.\n"
      ]
    },
    {
      "cell_type": "markdown",
      "metadata": {
        "id": "haHlPfEYeXi3"
      },
      "source": [
        "####2. Phân tích tương quan đa biến"
      ]
    },
    {
      "cell_type": "code",
      "execution_count": null,
      "metadata": {
        "id": "5F_ktMVQKM5O"
      },
      "outputs": [],
      "source": [
        "mean_like_ser = sub_df.groupby(by='playlist_genre').mean() # trung bình số like \n",
        "mean_like_ser = mean_like_ser['playlist_likes_count'].nlargest(15).sort_values(ascending=True); # Lấy top 10 và sắp xếp tăng"
      ]
    },
    {
      "cell_type": "markdown",
      "source": [
        "Trực quan"
      ],
      "metadata": {
        "id": "3iREu3oQ56Zg"
      }
    },
    {
      "cell_type": "code",
      "execution_count": null,
      "metadata": {
        "colab": {
          "base_uri": "https://localhost:8080/",
          "height": 500
        },
        "id": "4t3ob_vEKM5W",
        "outputId": "b07da7cb-0b70-4cda-ffcb-ddfb2ed6d47c"
      },
      "outputs": [
        {
          "output_type": "display_data",
          "data": {
            "image/png": "[encoded data removed]",
            "text/plain": [
              "<Figure size 1008x576 with 1 Axes>"
            ]
          },
          "metadata": {
            "needs_background": "light"
          }
        }
      ],
      "source": [
        "mean_like_ser.plot( figsize=(14,8), kind='barh',title='Số lượng like trung bình theo thời lượng track');"
      ]
    },
    {
      "cell_type": "markdown",
      "metadata": {
        "id": "k6CVAbZqv9AF"
      },
      "source": [
        "**Nhận xét**<br>\n",
        "- Thể loại `playlist` được người dùng yêu thích nhất là `learnning` với số lượng like trung bình là khoảng 8 like\n",
        "- Theo sau là những thể loại `Electronic`, `Hip Hop`, `Hip-hop & Rap` và `Pop`\n"
      ]
    },
    {
      "cell_type": "markdown",
      "metadata": {
        "id": "qFTrU_ppeat9"
      },
      "source": [
        "## Câu hỏi 3 : Quốc gia nào có nhiều người dùng nhất"
      ]
    },
    {
      "cell_type": "markdown",
      "source": [
        "* Chọn những trường cần xử lý và loại bỏ giá trị NULL"
      ],
      "metadata": {
        "id": "TAvMOKv-6Dh5"
      }
    },
    {
      "cell_type": "code",
      "execution_count": null,
      "metadata": {
        "cellView": "code",
        "id": "k17Krnyuwp38"
      },
      "outputs": [],
      "source": [
        "sub_df = df[['user_country_name','user_id']]\n",
        "sub_df = sub_df[sub_df['user_country_name'].notna()]\n",
        "sub_df = sub_df[sub_df['user_id'].notna()]"
      ]
    },
    {
      "cell_type": "markdown",
      "metadata": {
        "id": "qMPZWpEO6LYb"
      },
      "source": [
        "####1. Phân tích đơn biến\n"
      ]
    },
    {
      "cell_type": "code",
      "execution_count": null,
      "metadata": {
        "colab": {
          "base_uri": "https://localhost:8080/"
        },
        "id": "iwBBdfUpwp38",
        "outputId": "3d923400-7af2-4c22-901f-599827d4a4f1"
      },
      "outputs": [
        {
          "output_type": "execute_result",
          "data": {
            "text/plain": [
              "count              1021\n",
              "unique               49\n",
              "top       United States\n",
              "freq                345\n",
              "Name: user_country_name, dtype: object"
            ]
          },
          "metadata": {},
          "execution_count": 605
        }
      ],
      "source": [
        "sub_df['user_country_name'].describe()"
      ]
    },
    {
      "cell_type": "markdown",
      "metadata": {
        "id": "3QR-nPbkHCD-"
      },
      "source": [
        "Trực quan hoá"
      ]
    },
    {
      "cell_type": "code",
      "execution_count": null,
      "metadata": {
        "colab": {
          "base_uri": "https://localhost:8080/",
          "height": 1000
        },
        "id": "kBNjRRxz0mW0",
        "outputId": "ab145f97-04a8-4341-e1e1-59c0634e59bc"
      },
      "outputs": [
        {
          "output_type": "stream",
          "name": "stdout",
          "text": [
            "United States                        345\n",
            "Germany                               93\n",
            "United Kingdom                        77\n",
            "Netherlands                           65\n",
            "France                                60\n",
            "Indonesia                             46\n",
            "Canada                                44\n",
            "Guam                                  36\n",
            "Thailand                              28\n",
            "Philippines                           27\n",
            "Argentina                             19\n",
            "Australia                             16\n",
            "Mexico                                16\n",
            "Switzerland                           16\n",
            "Brazil                                15\n",
            "Spain                                 14\n",
            "Denmark                               12\n",
            "Ukraine                               10\n",
            "Chile                                  7\n",
            "South Africa                           7\n",
            "Belgium                                6\n",
            "Angola                                 5\n",
            "Austria                                5\n",
            "Estonia                                5\n",
            "Ireland                                5\n",
            "Kenya                                  4\n",
            "Romania                                4\n",
            "Dominican Republic                     3\n",
            "Czech Republic                         3\n",
            "Japan                                  2\n",
            "India                                  2\n",
            "Colombia                               2\n",
            "Hungary                                2\n",
            "New Zealand                            2\n",
            "Venezuela, Bolivarian Republic of      2\n",
            "Turkey                                 2\n",
            "Greece                                 2\n",
            "Sweden                                 1\n",
            "Saint Lucia                            1\n",
            "Costa Rica                             1\n",
            "Mauritius                              1\n",
            "Micronesia, Federated States of        1\n",
            "Gabon                                  1\n",
            "Vanuatu                                1\n",
            "Korea, Republic of                     1\n",
            "Portugal                               1\n",
            "Hong Kong                              1\n",
            "Italy                                  1\n",
            "Sri Lanka                              1\n",
            "Name: user_country_name, dtype: int64\n"
          ]
        },
        {
          "output_type": "display_data",
          "data": {
            "image/png": "[encoded data removed]",
            "text/plain": [
              "<Figure size 1296x1296 with 1 Axes>"
            ]
          },
          "metadata": {
            "needs_background": "light"
          }
        }
      ],
      "source": [
        "count_ser = sub_df['user_country_name'].value_counts();  # Tính tần số theo quốc gia\n",
        "print(count_ser)\n",
        "count_ser = count_ser.nlargest(30).sort_values(ascending=True); # Lấy top 30 và sắp xếp tăng\n",
        "count_ser.plot(figsize=(18, 18),kind='barh', title = 'Lượng người dùng theo quốc gia');"
      ]
    },
    {
      "cell_type": "markdown",
      "metadata": {
        "id": "BFBhVRTLeat-"
      },
      "source": [
        "**Nhận xét**<br>\n",
        "-Lượng người dùng của hệ thống nhiều nhất là các nước Mỹ, Đức , Anh. Trong đó Mỹ đứng đầu danh sách."
      ]
    },
    {
      "cell_type": "markdown",
      "metadata": {
        "id": "M6YPDTA64mlK"
      },
      "source": [
        "## Câu hỏi 4 : Quốc gia nào có nhiều người sáng tạo nội dung / người dùng nhất"
      ]
    },
    {
      "cell_type": "markdown",
      "source": [
        "* Chọn những trường cần xử lý và loại bỏ giá trị NULL"
      ],
      "metadata": {
        "id": "dJ7W05jj7Zvs"
      }
    },
    {
      "cell_type": "code",
      "execution_count": null,
      "metadata": {
        "cellView": "code",
        "id": "zAjpf5rU4mlL"
      },
      "outputs": [],
      "source": [
        "sub_df = df[['user_country_name','user_creator_subscription']]\n",
        "sub_df = sub_df[sub_df['user_country_name'].notna()]"
      ]
    },
    {
      "cell_type": "markdown",
      "metadata": {
        "id": "EFsI743J4mlL"
      },
      "source": [
        "####1. Phân tích đơn biến\n"
      ]
    },
    {
      "cell_type": "code",
      "execution_count": null,
      "metadata": {
        "colab": {
          "base_uri": "https://localhost:8080/",
          "height": 174
        },
        "id": "0AAxpqJD4mlL",
        "outputId": "12d77e58-8842-45f6-bcc3-48c6b7f97f8e"
      },
      "outputs": [
        {
          "output_type": "execute_result",
          "data": {
            "text/html": [
              "<div>\n",
              "<style scoped>\n",
              "    .dataframe tbody tr th:only-of-type {\n",
              "        vertical-align: middle;\n",
              "    }\n",
              "\n",
              "    .dataframe tbody tr th {\n",
              "        vertical-align: top;\n",
              "    }\n",
              "\n",
              "    .dataframe thead th {\n",
              "        text-align: right;\n",
              "    }\n",
              "</style>\n",
              "<table border=\"1\" class=\"dataframe\">\n",
              "  <thead>\n",
              "    <tr style=\"text-align: right;\">\n",
              "      <th></th>\n",
              "      <th>user_country_name</th>\n",
              "      <th>user_creator_subscription</th>\n",
              "    </tr>\n",
              "  </thead>\n",
              "  <tbody>\n",
              "    <tr>\n",
              "      <th>count</th>\n",
              "      <td>1021</td>\n",
              "      <td>1021</td>\n",
              "    </tr>\n",
              "    <tr>\n",
              "      <th>unique</th>\n",
              "      <td>49</td>\n",
              "      <td>2</td>\n",
              "    </tr>\n",
              "    <tr>\n",
              "      <th>top</th>\n",
              "      <td>United States</td>\n",
              "      <td>free</td>\n",
              "    </tr>\n",
              "    <tr>\n",
              "      <th>freq</th>\n",
              "      <td>345</td>\n",
              "      <td>1002</td>\n",
              "    </tr>\n",
              "  </tbody>\n",
              "</table>\n",
              "</div>"
            ],
            "text/plain": [
              "       user_country_name user_creator_subscription\n",
              "count               1021                      1021\n",
              "unique                49                         2\n",
              "top        United States                      free\n",
              "freq                 345                      1002"
            ]
          },
          "metadata": {},
          "execution_count": 608
        }
      ],
      "source": [
        "sub_df.describe().round(1)"
      ]
    },
    {
      "cell_type": "code",
      "execution_count": null,
      "metadata": {
        "id": "pyvHEB8W4mlN"
      },
      "outputs": [],
      "source": [
        "sub_df = percentile95_categorical(sub_df, 'user_country_name');  # Loại bớt outliner chọn khoảng 95%"
      ]
    },
    {
      "cell_type": "markdown",
      "metadata": {
        "id": "Y2vmlZYe4mlM"
      },
      "source": [
        "Trực quan hoá"
      ]
    },
    {
      "cell_type": "code",
      "execution_count": null,
      "metadata": {
        "colab": {
          "base_uri": "https://localhost:8080/",
          "height": 264
        },
        "id": "_YFsaknU4mlM",
        "outputId": "d4ab0692-79d9-418d-d968-a2450166e9a7"
      },
      "outputs": [
        {
          "output_type": "display_data",
          "data": {
            "image/png": "[encoded data removed]",
            "text/plain": [
              "<Figure size 1080x288 with 1 Axes>"
            ]
          },
          "metadata": {}
        }
      ],
      "source": [
        "count_ser_2 = sub_df['user_creator_subscription'].value_counts();  # Tính tần số theo người sáng tạo nội dung\n",
        "count_ser_2.plot(figsize=(15, 4),kind='pie', title = 'Số lượng người dùng theo loại',autopct='%1.1f%%', startangle=270, fontsize=17);\n"
      ]
    },
    {
      "cell_type": "markdown",
      "metadata": {
        "id": "KoHYWdAE4mlN"
      },
      "source": [
        "**Nhận xét**<br>\n",
        "-Tỉ lệ người dùng miễn phí chiếm số lượng lớn (98%) so với số người sáng tạo nội dung (2%)."
      ]
    },
    {
      "cell_type": "markdown",
      "metadata": {
        "id": "3Y-9pW4i4mlN"
      },
      "source": [
        "####2. Phân tích tương quan đa biến"
      ]
    },
    {
      "cell_type": "code",
      "source": [
        "# Đếm số người sáng tạo nội dung theo quốc gia\n",
        "people_count = sub_df['user_country_name'].value_counts(); \n",
        "creator_count = sub_df[sub_df['user_creator_subscription']=='creator-pro-unlimited']['user_country_name'].value_counts(); \n",
        "creater_ratio = creator_count/people_count\n",
        "creater_ratio = creater_ratio.nlargest(6).sort_values(ascending=True); # Lấy top 10 và sắp xếp tăng"
      ],
      "metadata": {
        "id": "2hSR4tv__QMW"
      },
      "execution_count": null,
      "outputs": []
    },
    {
      "cell_type": "markdown",
      "source": [
        "Trực quan"
      ],
      "metadata": {
        "id": "V1nU6B53_Nrn"
      }
    },
    {
      "cell_type": "code",
      "execution_count": null,
      "metadata": {
        "colab": {
          "base_uri": "https://localhost:8080/",
          "height": 336
        },
        "id": "b5xBlbaE4mlN",
        "outputId": "82ac180a-c71a-4d89-c97e-e9fa622bc037"
      },
      "outputs": [
        {
          "output_type": "display_data",
          "data": {
            "image/png": "[encoded data removed]",
            "text/plain": [
              "<Figure size 864x360 with 1 Axes>"
            ]
          },
          "metadata": {
            "needs_background": "light"
          }
        }
      ],
      "source": [
        "creater_ratio.plot( figsize=(12,5), kind='barh',title='Tỉ lệ người sáng tạo nội dung trên người dùng ở mỗi quốc gia');"
      ]
    },
    {
      "cell_type": "markdown",
      "metadata": {
        "id": "Jmmk29Sd4mlN"
      },
      "source": [
        "**Nhận xét**<br>\n",
        "-Tỉ lệ người sáng tạo nội dung trên tỉ lệ người dùng tại Thụy Sĩ là cao nhất trong hệ thống, theo sau lần lượt là Pháp và Đức."
      ]
    },
    {
      "cell_type": "markdown",
      "metadata": {
        "id": "GRFQZG58eblN"
      },
      "source": [
        "## Câu hỏi 5 : Thống kê số lượng follower theo quốc gia "
      ]
    },
    {
      "cell_type": "markdown",
      "source": [
        "* Chọn những trường cần xử lý và loại bỏ giá trị NULL"
      ],
      "metadata": {
        "id": "TiFt5hal7cE5"
      }
    },
    {
      "cell_type": "code",
      "execution_count": null,
      "metadata": {
        "id": "ZxA_cVt6Fqyl"
      },
      "outputs": [],
      "source": [
        "sub_df = df[['user_followers_count','user_country_name']]\n",
        "sub_df = sub_df[sub_df['user_country_name'].notna()]"
      ]
    },
    {
      "cell_type": "markdown",
      "metadata": {
        "id": "wUOr-8-DeblO"
      },
      "source": [
        "####1. Phân tích đơn biến\n"
      ]
    },
    {
      "cell_type": "code",
      "execution_count": null,
      "metadata": {
        "colab": {
          "base_uri": "https://localhost:8080/"
        },
        "id": "45zK-FawGaVB",
        "outputId": "27c66ead-d910-4c7d-b961-621936826266"
      },
      "outputs": [
        {
          "output_type": "execute_result",
          "data": {
            "text/plain": [
              "count    1021.0\n",
              "mean      123.8\n",
              "std       330.6\n",
              "min         0.0\n",
              "25%         6.0\n",
              "50%        24.0\n",
              "75%       111.0\n",
              "max      2650.0\n",
              "Name: user_followers_count, dtype: float64"
            ]
          },
          "metadata": {},
          "execution_count": 614
        }
      ],
      "source": [
        "sub_df['user_followers_count'].describe().round(1)"
      ]
    },
    {
      "cell_type": "code",
      "execution_count": null,
      "metadata": {
        "colab": {
          "base_uri": "https://localhost:8080/"
        },
        "id": "GQeJi1nHGcqp",
        "outputId": "bc54f3fd-8c91-4abd-cbb9-164e8bca5525"
      },
      "outputs": [
        {
          "output_type": "execute_result",
          "data": {
            "text/plain": [
              "count              1021\n",
              "unique               49\n",
              "top       United States\n",
              "freq                345\n",
              "Name: user_country_name, dtype: object"
            ]
          },
          "metadata": {},
          "execution_count": 615
        }
      ],
      "source": [
        "sub_df['user_country_name'].describe()"
      ]
    },
    {
      "cell_type": "code",
      "source": [
        "sub_df = percentile95_numerical(sub_df, 'user_followers_count');  # Loại bớt outliner chọn khoảng 95%"
      ],
      "metadata": {
        "id": "CALHdBPCNkv0"
      },
      "execution_count": null,
      "outputs": []
    },
    {
      "cell_type": "code",
      "execution_count": null,
      "metadata": {
        "colab": {
          "base_uri": "https://localhost:8080/",
          "height": 264
        },
        "id": "6jtJ_TqZHxAy",
        "outputId": "fd11488e-cb19-4ae6-b8cd-31de3c1d6b53"
      },
      "outputs": [
        {
          "output_type": "display_data",
          "data": {
            "image/png": "[encoded data removed]",
            "text/plain": [
              "<Figure size 1080x288 with 1 Axes>"
            ]
          },
          "metadata": {
            "needs_background": "light"
          }
        }
      ],
      "source": [
        "sub_df['user_followers_count'].hist(figsize=(15, 4), bins=100);"
      ]
    },
    {
      "cell_type": "markdown",
      "metadata": {
        "id": "b4srumkKeblO"
      },
      "source": [
        "**Nhận xét**<br>\n",
        "-Số lượng người theo dõi của các tài khoản thường dưới 180 người"
      ]
    },
    {
      "cell_type": "markdown",
      "metadata": {
        "id": "gxfdEdf8eblQ"
      },
      "source": [
        "####2. Phân tích tương quan đa biến"
      ]
    },
    {
      "cell_type": "code",
      "execution_count": null,
      "metadata": {
        "id": "m_EJiThqJgK7"
      },
      "outputs": [],
      "source": [
        "sum_follower_ser = sub_df.groupby(by='user_country_name').sum() # tổng số like \n",
        "sum_follower_ser = sum_follower_ser['user_followers_count'].nlargest(15).sort_values(ascending=True); # Lấy top 10 và sắp xếp tăng"
      ]
    },
    {
      "cell_type": "markdown",
      "source": [
        "Trực quan"
      ],
      "metadata": {
        "id": "4r1Va4MQOIZn"
      }
    },
    {
      "cell_type": "code",
      "execution_count": null,
      "metadata": {
        "colab": {
          "base_uri": "https://localhost:8080/",
          "height": 336
        },
        "id": "dQ-VX24XKmKN",
        "outputId": "a0716a52-62ad-465d-b3c5-f7dd55465e9b"
      },
      "outputs": [
        {
          "output_type": "display_data",
          "data": {
            "image/png": "[encoded data removed]",
            "text/plain": [
              "<Figure size 864x360 with 1 Axes>"
            ]
          },
          "metadata": {
            "needs_background": "light"
          }
        }
      ],
      "source": [
        "sum_follower_ser.plot( figsize=(12,5), kind='barh',title='Tổng số người theo dõi ở mỗi quốc gia');"
      ]
    },
    {
      "cell_type": "markdown",
      "metadata": {
        "id": "_bBBtNZhLCpG"
      },
      "source": [
        "**Nhận xét**<br>\n",
        "-So với các quốc gia thì Mỹ có số lượng người theo dõi nhiều nhất theo sau đó là Canada."
      ]
    },
    {
      "cell_type": "markdown",
      "metadata": {
        "id": "lahOGX3Fec28"
      },
      "source": [
        "\n",
        "\n",
        "```\n",
        "# Định dạng của đoạn này là mã\n",
        "```\n",
        "\n",
        "## Câu hỏi 6 : Thống kê lượt thích, bình luận, lượt chạy, thời lượng và năm xuất bản của track"
      ]
    },
    {
      "cell_type": "markdown",
      "source": [
        "* Chọn những trường cần xử lý và loại bỏ giá trị NULL"
      ],
      "metadata": {
        "id": "RIP0oYAN7dTR"
      }
    },
    {
      "cell_type": "code",
      "execution_count": null,
      "metadata": {
        "id": "zy9DuIJ_LJSG"
      },
      "outputs": [],
      "source": [
        "sub_df = df[['track_likes_count','track_comment_count', 'track_playback_count', 'track_duration', 'track_display_date']]\n",
        "# sub_df = sub_df[sub_df['track_genre'].notna()]"
      ]
    },
    {
      "cell_type": "markdown",
      "metadata": {
        "id": "_Aub8vcb1PLs"
      },
      "source": [
        "####1. Phân tích đơn biến\n"
      ]
    },
    {
      "cell_type": "code",
      "source": [
        "sub_df['track_duration']=sub_df['track_duration']/1000"
      ],
      "metadata": {
        "id": "B9sNG0GrP4QS"
      },
      "execution_count": null,
      "outputs": []
    },
    {
      "cell_type": "code",
      "execution_count": null,
      "metadata": {
        "colab": {
          "base_uri": "https://localhost:8080/",
          "height": 300
        },
        "id": "jLowtuK3YVG0",
        "outputId": "4c16aed1-7271-4dea-fc3c-165fb0edadb7"
      },
      "outputs": [
        {
          "output_type": "execute_result",
          "data": {
            "text/html": [
              "<div>\n",
              "<style scoped>\n",
              "    .dataframe tbody tr th:only-of-type {\n",
              "        vertical-align: middle;\n",
              "    }\n",
              "\n",
              "    .dataframe tbody tr th {\n",
              "        vertical-align: top;\n",
              "    }\n",
              "\n",
              "    .dataframe thead th {\n",
              "        text-align: right;\n",
              "    }\n",
              "</style>\n",
              "<table border=\"1\" class=\"dataframe\">\n",
              "  <thead>\n",
              "    <tr style=\"text-align: right;\">\n",
              "      <th></th>\n",
              "      <th>track_likes_count</th>\n",
              "      <th>track_comment_count</th>\n",
              "      <th>track_playback_count</th>\n",
              "      <th>track_duration</th>\n",
              "    </tr>\n",
              "  </thead>\n",
              "  <tbody>\n",
              "    <tr>\n",
              "      <th>count</th>\n",
              "      <td>1438.0</td>\n",
              "      <td>1438.0</td>\n",
              "      <td>1438.0</td>\n",
              "      <td>1438.0</td>\n",
              "    </tr>\n",
              "    <tr>\n",
              "      <th>mean</th>\n",
              "      <td>21.9</td>\n",
              "      <td>0.7</td>\n",
              "      <td>1920.9</td>\n",
              "      <td>253.8</td>\n",
              "    </tr>\n",
              "    <tr>\n",
              "      <th>std</th>\n",
              "      <td>180.5</td>\n",
              "      <td>3.0</td>\n",
              "      <td>17674.9</td>\n",
              "      <td>449.8</td>\n",
              "    </tr>\n",
              "    <tr>\n",
              "      <th>min</th>\n",
              "      <td>0.0</td>\n",
              "      <td>0.0</td>\n",
              "      <td>0.0</td>\n",
              "      <td>0.0</td>\n",
              "    </tr>\n",
              "    <tr>\n",
              "      <th>25%</th>\n",
              "      <td>0.0</td>\n",
              "      <td>0.0</td>\n",
              "      <td>12.0</td>\n",
              "      <td>126.0</td>\n",
              "    </tr>\n",
              "    <tr>\n",
              "      <th>50%</th>\n",
              "      <td>1.0</td>\n",
              "      <td>0.0</td>\n",
              "      <td>50.0</td>\n",
              "      <td>186.4</td>\n",
              "    </tr>\n",
              "    <tr>\n",
              "      <th>75%</th>\n",
              "      <td>3.0</td>\n",
              "      <td>0.0</td>\n",
              "      <td>208.8</td>\n",
              "      <td>241.2</td>\n",
              "    </tr>\n",
              "    <tr>\n",
              "      <th>max</th>\n",
              "      <td>3784.0</td>\n",
              "      <td>64.0</td>\n",
              "      <td>422823.0</td>\n",
              "      <td>8796.1</td>\n",
              "    </tr>\n",
              "  </tbody>\n",
              "</table>\n",
              "</div>"
            ],
            "text/plain": [
              "       track_likes_count  ...  track_duration\n",
              "count             1438.0  ...          1438.0\n",
              "mean                21.9  ...           253.8\n",
              "std                180.5  ...           449.8\n",
              "min                  0.0  ...             0.0\n",
              "25%                  0.0  ...           126.0\n",
              "50%                  1.0  ...           186.4\n",
              "75%                  3.0  ...           241.2\n",
              "max               3784.0  ...          8796.1\n",
              "\n",
              "[8 rows x 4 columns]"
            ]
          },
          "metadata": {},
          "execution_count": 622
        }
      ],
      "source": [
        "sub_df.describe().round(1)"
      ]
    },
    {
      "cell_type": "code",
      "execution_count": null,
      "metadata": {
        "id": "-XWCSUaDYmbe"
      },
      "outputs": [],
      "source": [
        "sub_df = percentile95_numerical(sub_df,'track_duration')   # Loại bớt outliner chọn khoảng 95%\n",
        "sub_df = percentile95_numerical(sub_df,'track_comment_count')   # Loại bớt outliner chọn khoảng 95%\n",
        "sub_df = percentile95_numerical(sub_df,'track_likes_count')   # Loại bớt outliner chọn khoảng 95%\n",
        "sub_df = percentile95_numerical(sub_df,'track_playback_count')   # Loại bớt outliner chọn khoảng 95%"
      ]
    },
    {
      "cell_type": "markdown",
      "source": [
        "Trực quan"
      ],
      "metadata": {
        "id": "FhDMupNVQT77"
      }
    },
    {
      "cell_type": "code",
      "execution_count": null,
      "metadata": {
        "colab": {
          "base_uri": "https://localhost:8080/",
          "height": 335
        },
        "id": "GWB2C2O4YZ_N",
        "outputId": "66f79afb-eb01-4cc1-f1f5-2c707bf6436b"
      },
      "outputs": [
        {
          "output_type": "display_data",
          "data": {
            "image/png": "[encoded data removed]",
            "text/plain": [
              "<Figure size 720x360 with 4 Axes>"
            ]
          },
          "metadata": {
            "needs_background": "light"
          }
        }
      ],
      "source": [
        "sub_df.hist(figsize=(10, 5), bins=50);"
      ]
    },
    {
      "cell_type": "markdown",
      "metadata": {
        "id": "T3lDg7bA1PLu"
      },
      "source": [
        "**Nhận xét**<br>\n",
        "-Số lượt thích của 1 track thường dưới 20.\n",
        "\n",
        "-Số lượt chạy của 1 track thường dưới 100.\n",
        "\n",
        "-Thời lượng của 1 track thường dưới 300s."
      ]
    },
    {
      "cell_type": "markdown",
      "metadata": {
        "id": "vabPao6C1PLu"
      },
      "source": [
        "####2. Phân tích tương quan đa biến"
      ]
    },
    {
      "cell_type": "markdown",
      "source": [
        "Trực quan"
      ],
      "metadata": {
        "id": "hBHnSKDGQRcl"
      }
    },
    {
      "cell_type": "code",
      "execution_count": null,
      "metadata": {
        "colab": {
          "base_uri": "https://localhost:8080/",
          "height": 725
        },
        "id": "hcwdtuy31PLv",
        "outputId": "e77f279e-2873-45c9-dbc2-f3e141cf7d36"
      },
      "outputs": [
        {
          "output_type": "display_data",
          "data": {
            "image/png": "[encoded data removed]",
            "text/plain": [
              "<Figure size 720x720 with 20 Axes>"
            ]
          },
          "metadata": {
            "needs_background": "light"
          }
        }
      ],
      "source": [
        "sns.pairplot(sub_df);"
      ]
    },
    {
      "cell_type": "markdown",
      "source": [
        "Số lượt chạy và số lượt like có liên quan lớn đến nhau."
      ],
      "metadata": {
        "id": "XlRYA1UiQbsU"
      }
    },
    {
      "cell_type": "markdown",
      "metadata": {
        "id": "rOW8LMmse0vI"
      },
      "source": [
        "## Câu hỏi 7 : Sự ảnh hưởng của số lượng tag với số lượt xem, tải xuống và thích của track"
      ]
    },
    {
      "cell_type": "markdown",
      "source": [
        "* Chọn những trường cần xử lý và loại bỏ giá trị NULL"
      ],
      "metadata": {
        "id": "o5xz6Vx17eE5"
      }
    },
    {
      "cell_type": "code",
      "execution_count": null,
      "metadata": {
        "id": "XNxbKo7YAD9W",
        "colab": {
          "base_uri": "https://localhost:8080/",
          "height": 423
        },
        "outputId": "1e7bdcf2-ebe8-4340-869d-7ee15dd4ffe0"
      },
      "outputs": [
        {
          "output_type": "execute_result",
          "data": {
            "text/html": [
              "<div>\n",
              "<style scoped>\n",
              "    .dataframe tbody tr th:only-of-type {\n",
              "        vertical-align: middle;\n",
              "    }\n",
              "\n",
              "    .dataframe tbody tr th {\n",
              "        vertical-align: top;\n",
              "    }\n",
              "\n",
              "    .dataframe thead th {\n",
              "        text-align: right;\n",
              "    }\n",
              "</style>\n",
              "<table border=\"1\" class=\"dataframe\">\n",
              "  <thead>\n",
              "    <tr style=\"text-align: right;\">\n",
              "      <th></th>\n",
              "      <th>track_tag_list_count</th>\n",
              "      <th>track_likes_count</th>\n",
              "      <th>track_download_count</th>\n",
              "      <th>track_playback_count</th>\n",
              "    </tr>\n",
              "  </thead>\n",
              "  <tbody>\n",
              "    <tr>\n",
              "      <th>0</th>\n",
              "      <td>7</td>\n",
              "      <td>5.0</td>\n",
              "      <td>0.0</td>\n",
              "      <td>75.0</td>\n",
              "    </tr>\n",
              "    <tr>\n",
              "      <th>1</th>\n",
              "      <td>10</td>\n",
              "      <td>8.0</td>\n",
              "      <td>0.0</td>\n",
              "      <td>90.0</td>\n",
              "    </tr>\n",
              "    <tr>\n",
              "      <th>2</th>\n",
              "      <td>7</td>\n",
              "      <td>16.0</td>\n",
              "      <td>0.0</td>\n",
              "      <td>182.0</td>\n",
              "    </tr>\n",
              "    <tr>\n",
              "      <th>6</th>\n",
              "      <td>7</td>\n",
              "      <td>4.0</td>\n",
              "      <td>0.0</td>\n",
              "      <td>324.0</td>\n",
              "    </tr>\n",
              "    <tr>\n",
              "      <th>8</th>\n",
              "      <td>6</td>\n",
              "      <td>1.0</td>\n",
              "      <td>0.0</td>\n",
              "      <td>75.0</td>\n",
              "    </tr>\n",
              "    <tr>\n",
              "      <th>...</th>\n",
              "      <td>...</td>\n",
              "      <td>...</td>\n",
              "      <td>...</td>\n",
              "      <td>...</td>\n",
              "    </tr>\n",
              "    <tr>\n",
              "      <th>2392</th>\n",
              "      <td>1</td>\n",
              "      <td>2.0</td>\n",
              "      <td>0.0</td>\n",
              "      <td>12.0</td>\n",
              "    </tr>\n",
              "    <tr>\n",
              "      <th>2393</th>\n",
              "      <td>1</td>\n",
              "      <td>1.0</td>\n",
              "      <td>0.0</td>\n",
              "      <td>15.0</td>\n",
              "    </tr>\n",
              "    <tr>\n",
              "      <th>2399</th>\n",
              "      <td>1</td>\n",
              "      <td>2.0</td>\n",
              "      <td>0.0</td>\n",
              "      <td>12.0</td>\n",
              "    </tr>\n",
              "    <tr>\n",
              "      <th>2400</th>\n",
              "      <td>1</td>\n",
              "      <td>1.0</td>\n",
              "      <td>0.0</td>\n",
              "      <td>15.0</td>\n",
              "    </tr>\n",
              "    <tr>\n",
              "      <th>2408</th>\n",
              "      <td>3</td>\n",
              "      <td>0.0</td>\n",
              "      <td>0.0</td>\n",
              "      <td>14.0</td>\n",
              "    </tr>\n",
              "  </tbody>\n",
              "</table>\n",
              "<p>652 rows × 4 columns</p>\n",
              "</div>"
            ],
            "text/plain": [
              "      track_tag_list_count  ...  track_playback_count\n",
              "0                        7  ...                  75.0\n",
              "1                       10  ...                  90.0\n",
              "2                        7  ...                 182.0\n",
              "6                        7  ...                 324.0\n",
              "8                        6  ...                  75.0\n",
              "...                    ...  ...                   ...\n",
              "2392                     1  ...                  12.0\n",
              "2393                     1  ...                  15.0\n",
              "2399                     1  ...                  12.0\n",
              "2400                     1  ...                  15.0\n",
              "2408                     3  ...                  14.0\n",
              "\n",
              "[652 rows x 4 columns]"
            ]
          },
          "metadata": {},
          "execution_count": 626
        }
      ],
      "source": [
        "sub_df = df[['track_tag_list', 'track_likes_count','track_download_count', 'track_playback_count']]\n",
        "sub_df['track_tag_list']=sub_df['track_tag_list'].str.split()\n",
        "sub_df=sub_df.dropna()\n",
        "sub_df['track_tag_list'] = sub_df.track_tag_list.map(len)\n",
        "sub_df.rename(columns={\"track_tag_list\": \"track_tag_list_count\"}, inplace=True)\n",
        "sub_df"
      ]
    },
    {
      "cell_type": "markdown",
      "metadata": {
        "id": "Tj8yEuYce0vI"
      },
      "source": [
        "####1. Phân tích đơn biến\n"
      ]
    },
    {
      "cell_type": "code",
      "source": [
        "sub_df.describe().round(1)\n",
        "  \n"
      ],
      "metadata": {
        "colab": {
          "base_uri": "https://localhost:8080/",
          "height": 300
        },
        "id": "WLk6VxfbZHYe",
        "outputId": "1e3dd199-4752-423e-d4a1-050e29be8d9c"
      },
      "execution_count": null,
      "outputs": [
        {
          "output_type": "execute_result",
          "data": {
            "text/html": [
              "<div>\n",
              "<style scoped>\n",
              "    .dataframe tbody tr th:only-of-type {\n",
              "        vertical-align: middle;\n",
              "    }\n",
              "\n",
              "    .dataframe tbody tr th {\n",
              "        vertical-align: top;\n",
              "    }\n",
              "\n",
              "    .dataframe thead th {\n",
              "        text-align: right;\n",
              "    }\n",
              "</style>\n",
              "<table border=\"1\" class=\"dataframe\">\n",
              "  <thead>\n",
              "    <tr style=\"text-align: right;\">\n",
              "      <th></th>\n",
              "      <th>track_tag_list_count</th>\n",
              "      <th>track_likes_count</th>\n",
              "      <th>track_download_count</th>\n",
              "      <th>track_playback_count</th>\n",
              "    </tr>\n",
              "  </thead>\n",
              "  <tbody>\n",
              "    <tr>\n",
              "      <th>count</th>\n",
              "      <td>652.0</td>\n",
              "      <td>652.0</td>\n",
              "      <td>652.0</td>\n",
              "      <td>652.0</td>\n",
              "    </tr>\n",
              "    <tr>\n",
              "      <th>mean</th>\n",
              "      <td>3.6</td>\n",
              "      <td>30.8</td>\n",
              "      <td>4.0</td>\n",
              "      <td>2923.8</td>\n",
              "    </tr>\n",
              "    <tr>\n",
              "      <th>std</th>\n",
              "      <td>4.5</td>\n",
              "      <td>243.9</td>\n",
              "      <td>17.3</td>\n",
              "      <td>25111.8</td>\n",
              "    </tr>\n",
              "    <tr>\n",
              "      <th>min</th>\n",
              "      <td>1.0</td>\n",
              "      <td>0.0</td>\n",
              "      <td>0.0</td>\n",
              "      <td>0.0</td>\n",
              "    </tr>\n",
              "    <tr>\n",
              "      <th>25%</th>\n",
              "      <td>1.0</td>\n",
              "      <td>0.0</td>\n",
              "      <td>0.0</td>\n",
              "      <td>18.0</td>\n",
              "    </tr>\n",
              "    <tr>\n",
              "      <th>50%</th>\n",
              "      <td>1.0</td>\n",
              "      <td>1.0</td>\n",
              "      <td>0.0</td>\n",
              "      <td>58.0</td>\n",
              "    </tr>\n",
              "    <tr>\n",
              "      <th>75%</th>\n",
              "      <td>5.0</td>\n",
              "      <td>5.0</td>\n",
              "      <td>0.0</td>\n",
              "      <td>237.2</td>\n",
              "    </tr>\n",
              "    <tr>\n",
              "      <th>max</th>\n",
              "      <td>30.0</td>\n",
              "      <td>3784.0</td>\n",
              "      <td>100.0</td>\n",
              "      <td>422823.0</td>\n",
              "    </tr>\n",
              "  </tbody>\n",
              "</table>\n",
              "</div>"
            ],
            "text/plain": [
              "       track_tag_list_count  ...  track_playback_count\n",
              "count                 652.0  ...                 652.0\n",
              "mean                    3.6  ...                2923.8\n",
              "std                     4.5  ...               25111.8\n",
              "min                     1.0  ...                   0.0\n",
              "25%                     1.0  ...                  18.0\n",
              "50%                     1.0  ...                  58.0\n",
              "75%                     5.0  ...                 237.2\n",
              "max                    30.0  ...              422823.0\n",
              "\n",
              "[8 rows x 4 columns]"
            ]
          },
          "metadata": {},
          "execution_count": 627
        }
      ]
    },
    {
      "cell_type": "code",
      "source": [
        "sub_df = percentile95_numerical(sub_df,'track_playback_count') # Loại bớt outliner chọn khoảng 95%"
      ],
      "metadata": {
        "id": "-iqnnPhoZn6k"
      },
      "execution_count": null,
      "outputs": []
    },
    {
      "cell_type": "code",
      "execution_count": null,
      "metadata": {
        "id": "jWpILLLuBHfd",
        "colab": {
          "base_uri": "https://localhost:8080/",
          "height": 335
        },
        "outputId": "18c1e9d2-196c-4f3a-e07b-cc7b7a7c57e0"
      },
      "outputs": [
        {
          "output_type": "display_data",
          "data": {
            "image/png": "[encoded data removed]",
            "text/plain": [
              "<Figure size 720x360 with 4 Axes>"
            ]
          },
          "metadata": {
            "needs_background": "light"
          }
        }
      ],
      "source": [
        "sub_df.hist(figsize=(10, 5), bins=50);"
      ]
    },
    {
      "cell_type": "markdown",
      "metadata": {
        "id": "GmssHAZ5e0vJ"
      },
      "source": [
        "**Nhận xét**<br>\n",
        "-Số lượt thích của 1 track thường dưới 20.\n",
        "\n",
        "-Số lượt chạy của 1 track thường dưới 100.\n",
        "\n",
        "-Lượt tải về của 1 track thường dưới 10 lượt.\n",
        "\n",
        "-Số tag của 1 track thường dưới 10."
      ]
    },
    {
      "cell_type": "markdown",
      "metadata": {
        "id": "oMRQvHH_e0vK"
      },
      "source": [
        "####2. Phân tích tương quan đa biến"
      ]
    },
    {
      "cell_type": "code",
      "source": [
        "normalized_df=(sub_df-sub_df.mean())/sub_df.std()\n",
        "ssub_df= sub_df['track_tag_list_count']\n",
        "normalized_df['track_tag_list_count'] = ssub_df\n",
        "sub_ser = normalized_df.groupby('track_tag_list_count').mean()\n"
      ],
      "metadata": {
        "id": "FCadRs_4bi-Q"
      },
      "execution_count": null,
      "outputs": []
    },
    {
      "cell_type": "markdown",
      "source": [
        "\n",
        "\n",
        "Trực quan\n",
        "\n"
      ],
      "metadata": {
        "id": "0ZCR793IRcvx"
      }
    },
    {
      "cell_type": "code",
      "source": [
        "sub_ser.plot.line();"
      ],
      "metadata": {
        "colab": {
          "base_uri": "https://localhost:8080/",
          "height": 282
        },
        "id": "N1e_wQhARhmP",
        "outputId": "87edcbba-395c-46fc-d0ed-7b7f7d810154"
      },
      "execution_count": null,
      "outputs": [
        {
          "output_type": "display_data",
          "data": {
            "image/png": "[encoded data removed]",
            "text/plain": [
              "<Figure size 432x288 with 1 Axes>"
            ]
          },
          "metadata": {
            "needs_background": "light"
          }
        }
      ]
    },
    {
      "cell_type": "markdown",
      "metadata": {
        "id": "DPHK2VL0e0vK"
      },
      "source": [
        "Trực quan (scatterplot, jointplot, kde plot, correlation matrix)\n"
      ]
    },
    {
      "cell_type": "markdown",
      "metadata": {
        "id": "WeXnefNKe1Am"
      },
      "source": [
        "\n",
        "\n",
        "```\n",
        "# Định dạng của đoạn này là mã\n",
        "```\n",
        "\n",
        "## Câu hỏi 8 : Thống kê nghệ sĩ ở đâu dc like nhiều"
      ]
    },
    {
      "cell_type": "markdown",
      "source": [
        "* Chọn những trường cần xử lý và loại bỏ giá trị NULL"
      ],
      "metadata": {
        "id": "Abk1PRbx7fha"
      }
    },
    {
      "cell_type": "code",
      "execution_count": null,
      "metadata": {
        "id": "El7ODv-6e1An",
        "colab": {
          "base_uri": "https://localhost:8080/",
          "height": 423
        },
        "outputId": "df18f6f2-26e9-4859-8f71-d1f0da0dfea2"
      },
      "outputs": [
        {
          "output_type": "execute_result",
          "data": {
            "text/html": [
              "<div>\n",
              "<style scoped>\n",
              "    .dataframe tbody tr th:only-of-type {\n",
              "        vertical-align: middle;\n",
              "    }\n",
              "\n",
              "    .dataframe tbody tr th {\n",
              "        vertical-align: top;\n",
              "    }\n",
              "\n",
              "    .dataframe thead th {\n",
              "        text-align: right;\n",
              "    }\n",
              "</style>\n",
              "<table border=\"1\" class=\"dataframe\">\n",
              "  <thead>\n",
              "    <tr style=\"text-align: right;\">\n",
              "      <th></th>\n",
              "      <th>user_likes_count</th>\n",
              "      <th>user_country_name</th>\n",
              "    </tr>\n",
              "  </thead>\n",
              "  <tbody>\n",
              "    <tr>\n",
              "      <th>0</th>\n",
              "      <td>1</td>\n",
              "      <td>United Kingdom</td>\n",
              "    </tr>\n",
              "    <tr>\n",
              "      <th>1</th>\n",
              "      <td>1</td>\n",
              "      <td>United Kingdom</td>\n",
              "    </tr>\n",
              "    <tr>\n",
              "      <th>2</th>\n",
              "      <td>1</td>\n",
              "      <td>United Kingdom</td>\n",
              "    </tr>\n",
              "    <tr>\n",
              "      <th>3</th>\n",
              "      <td>190</td>\n",
              "      <td>United Kingdom</td>\n",
              "    </tr>\n",
              "    <tr>\n",
              "      <th>4</th>\n",
              "      <td>190</td>\n",
              "      <td>United Kingdom</td>\n",
              "    </tr>\n",
              "    <tr>\n",
              "      <th>...</th>\n",
              "      <td>...</td>\n",
              "      <td>...</td>\n",
              "    </tr>\n",
              "    <tr>\n",
              "      <th>2454</th>\n",
              "      <td>29</td>\n",
              "      <td>Gabon</td>\n",
              "    </tr>\n",
              "    <tr>\n",
              "      <th>2455</th>\n",
              "      <td>4</td>\n",
              "      <td>Costa Rica</td>\n",
              "    </tr>\n",
              "    <tr>\n",
              "      <th>2456</th>\n",
              "      <td>3</td>\n",
              "      <td>Sweden</td>\n",
              "    </tr>\n",
              "    <tr>\n",
              "      <th>2457</th>\n",
              "      <td>1</td>\n",
              "      <td>Italy</td>\n",
              "    </tr>\n",
              "    <tr>\n",
              "      <th>2458</th>\n",
              "      <td>0</td>\n",
              "      <td>Micronesia, Federated States of</td>\n",
              "    </tr>\n",
              "  </tbody>\n",
              "</table>\n",
              "<p>1021 rows × 2 columns</p>\n",
              "</div>"
            ],
            "text/plain": [
              "      user_likes_count                user_country_name\n",
              "0                    1                   United Kingdom\n",
              "1                    1                   United Kingdom\n",
              "2                    1                   United Kingdom\n",
              "3                  190                   United Kingdom\n",
              "4                  190                   United Kingdom\n",
              "...                ...                              ...\n",
              "2454                29                            Gabon\n",
              "2455                 4                       Costa Rica\n",
              "2456                 3                           Sweden\n",
              "2457                 1                            Italy\n",
              "2458                 0  Micronesia, Federated States of\n",
              "\n",
              "[1021 rows x 2 columns]"
            ]
          },
          "metadata": {},
          "execution_count": 632
        }
      ],
      "source": [
        "sub_df = df[['user_likes_count','user_country_name']]\n",
        "sub_df = sub_df[sub_df['user_likes_count'].notna()]\n",
        "sub_df = sub_df[sub_df['user_country_name'].notna()]\n",
        "sub_df"
      ]
    },
    {
      "cell_type": "markdown",
      "metadata": {
        "id": "i9oXDc6se1Am"
      },
      "source": [
        "####1. Phân tích đơn biến\n"
      ]
    },
    {
      "cell_type": "markdown",
      "source": [
        "Xử lý Outlier\n"
      ],
      "metadata": {
        "id": "WbK-hRpaQ0XS"
      }
    },
    {
      "cell_type": "code",
      "source": [
        "sub_df = percentile95_categorical(sub_df,'user_country_name')   # Loại bớt outliner chọn khoảng 95%"
      ],
      "metadata": {
        "id": "hn_Y1NYzQ5sz"
      },
      "execution_count": null,
      "outputs": []
    },
    {
      "cell_type": "markdown",
      "source": [
        "Trực quan\n"
      ],
      "metadata": {
        "id": "0EKIez17R3-H"
      }
    },
    {
      "cell_type": "code",
      "source": [
        "sub_df.hist(figsize=(12, 8),bins=30);"
      ],
      "metadata": {
        "colab": {
          "base_uri": "https://localhost:8080/",
          "height": 498
        },
        "id": "bx6XkFMZQDwf",
        "outputId": "1099885e-b24e-461c-d517-ea8b6a38fcf6"
      },
      "execution_count": null,
      "outputs": [
        {
          "output_type": "display_data",
          "data": {
            "image/png": "[encoded data removed]",
            "text/plain": [
              "<Figure size 864x576 with 1 Axes>"
            ]
          },
          "metadata": {
            "needs_background": "light"
          }
        }
      ]
    },
    {
      "cell_type": "markdown",
      "metadata": {
        "id": "kZSqpdWJe1An"
      },
      "source": [
        "**Nhận xét**<br>\n",
        "-Số lượt like của người dùng thường dưới 1000."
      ]
    },
    {
      "cell_type": "markdown",
      "metadata": {
        "id": "HBK9vOOXe1Ap"
      },
      "source": [
        "####2. Phân tích tương quan đa biến"
      ]
    },
    {
      "cell_type": "code",
      "execution_count": null,
      "metadata": {
        "id": "8IC6X4L6e1Ap",
        "colab": {
          "base_uri": "https://localhost:8080/"
        },
        "outputId": "ca8e9ff8-7cd6-4b48-82b5-613bb05d3d07"
      },
      "outputs": [
        {
          "output_type": "execute_result",
          "data": {
            "text/plain": [
              "user_country_name\n",
              "Chile               23.142857\n",
              "Canada              28.068182\n",
              "Netherlands         41.184615\n",
              "Germany             44.978495\n",
              "Argentina           62.105263\n",
              "Australia           86.062500\n",
              "France              92.200000\n",
              "Belgium            145.000000\n",
              "United Kingdom     151.727273\n",
              "United States      163.889855\n",
              "Ukraine            168.000000\n",
              "Thailand           263.000000\n",
              "Brazil             404.066667\n",
              "Guam               978.000000\n",
              "Switzerland       1639.312500\n",
              "Name: user_likes_count, dtype: float64"
            ]
          },
          "metadata": {},
          "execution_count": 635
        }
      ],
      "source": [
        "mean_like_ser = sub_df.groupby(\"user_country_name\").mean() # trung bình số like \n",
        "mean_like_ser = mean_like_ser['user_likes_count'].nlargest(15).sort_values(ascending=True); # Lấy top 10 và sắp xếp tăng\n",
        "mean_like_ser"
      ]
    },
    {
      "cell_type": "markdown",
      "metadata": {
        "id": "3b3bN0kpe1Aq"
      },
      "source": [
        "Trực quan\n"
      ]
    },
    {
      "cell_type": "code",
      "execution_count": null,
      "metadata": {
        "id": "alDcDLvBe1Aq",
        "colab": {
          "base_uri": "https://localhost:8080/",
          "height": 500
        },
        "outputId": "8b509b23-7752-41a5-acb5-7410dd2420e1"
      },
      "outputs": [
        {
          "output_type": "display_data",
          "data": {
            "image/png": "[encoded data removed]",
            "text/plain": [
              "<Figure size 1008x576 with 1 Axes>"
            ]
          },
          "metadata": {
            "needs_background": "light"
          }
        }
      ],
      "source": [
        "mean_like_ser.plot( figsize=(14,8), kind='barh',title='Số lượng like trung bình của nghệ sĩ theo quốc gia');"
      ]
    },
    {
      "cell_type": "markdown",
      "source": [
        "**Nhận** **xét**"
      ],
      "metadata": {
        "id": "vz62o92yST9M"
      }
    },
    {
      "cell_type": "markdown",
      "source": [
        "Nghệ sĩ của Thụy Sĩ được like nhiều nhất với số lượt like trung bình là 1600."
      ],
      "metadata": {
        "id": "CTOZHwAQSZPL"
      }
    },
    {
      "cell_type": "markdown",
      "metadata": {
        "id": "KOyrkHiRfF47"
      },
      "source": [
        "## Câu hỏi 9 : Thống kê thời lượng theo quốc gia"
      ]
    },
    {
      "cell_type": "markdown",
      "source": [
        "* Chọn những trường cần xử lý và loại bỏ giá trị NULL"
      ],
      "metadata": {
        "id": "0MAt51jm7gd2"
      }
    },
    {
      "cell_type": "markdown",
      "metadata": {
        "id": "2NTz6TFMfF48"
      },
      "source": [
        "####1. Phân tích đơn biến\n"
      ]
    },
    {
      "cell_type": "code",
      "execution_count": null,
      "metadata": {
        "colab": {
          "base_uri": "https://localhost:8080/",
          "height": 300
        },
        "id": "onGzwld-i4qT",
        "outputId": "886255b3-883e-4480-d8c5-3abe47a9e134"
      },
      "outputs": [
        {
          "output_type": "execute_result",
          "data": {
            "text/html": [
              "<div>\n",
              "<style scoped>\n",
              "    .dataframe tbody tr th:only-of-type {\n",
              "        vertical-align: middle;\n",
              "    }\n",
              "\n",
              "    .dataframe tbody tr th {\n",
              "        vertical-align: top;\n",
              "    }\n",
              "\n",
              "    .dataframe thead th {\n",
              "        text-align: right;\n",
              "    }\n",
              "</style>\n",
              "<table border=\"1\" class=\"dataframe\">\n",
              "  <thead>\n",
              "    <tr style=\"text-align: right;\">\n",
              "      <th></th>\n",
              "      <th>track_duration</th>\n",
              "    </tr>\n",
              "  </thead>\n",
              "  <tbody>\n",
              "    <tr>\n",
              "      <th>count</th>\n",
              "      <td>700.0</td>\n",
              "    </tr>\n",
              "    <tr>\n",
              "      <th>mean</th>\n",
              "      <td>284593.9</td>\n",
              "    </tr>\n",
              "    <tr>\n",
              "      <th>std</th>\n",
              "      <td>527557.3</td>\n",
              "    </tr>\n",
              "    <tr>\n",
              "      <th>min</th>\n",
              "      <td>0.0</td>\n",
              "    </tr>\n",
              "    <tr>\n",
              "      <th>25%</th>\n",
              "      <td>157278.2</td>\n",
              "    </tr>\n",
              "    <tr>\n",
              "      <th>50%</th>\n",
              "      <td>204661.0</td>\n",
              "    </tr>\n",
              "    <tr>\n",
              "      <th>75%</th>\n",
              "      <td>251321.5</td>\n",
              "    </tr>\n",
              "    <tr>\n",
              "      <th>max</th>\n",
              "      <td>8796056.0</td>\n",
              "    </tr>\n",
              "  </tbody>\n",
              "</table>\n",
              "</div>"
            ],
            "text/plain": [
              "       track_duration\n",
              "count           700.0\n",
              "mean         284593.9\n",
              "std          527557.3\n",
              "min               0.0\n",
              "25%          157278.2\n",
              "50%          204661.0\n",
              "75%          251321.5\n",
              "max         8796056.0"
            ]
          },
          "metadata": {},
          "execution_count": 637
        }
      ],
      "source": [
        "sub_df = df[['track_duration','user_country_name']]\n",
        "sub_df = sub_df[sub_df['track_duration'].notna()]\n",
        "sub_df = sub_df[sub_df['user_country_name'].notna()]\n",
        "sub_df.describe().round(1)"
      ]
    },
    {
      "cell_type": "code",
      "execution_count": null,
      "metadata": {
        "id": "ViFp45gci98a",
        "colab": {
          "base_uri": "https://localhost:8080/",
          "height": 423
        },
        "outputId": "33b1ef2a-be7a-464a-8ab2-4ed9e4021507"
      },
      "outputs": [
        {
          "output_type": "execute_result",
          "data": {
            "text/html": [
              "<div>\n",
              "<style scoped>\n",
              "    .dataframe tbody tr th:only-of-type {\n",
              "        vertical-align: middle;\n",
              "    }\n",
              "\n",
              "    .dataframe tbody tr th {\n",
              "        vertical-align: top;\n",
              "    }\n",
              "\n",
              "    .dataframe thead th {\n",
              "        text-align: right;\n",
              "    }\n",
              "</style>\n",
              "<table border=\"1\" class=\"dataframe\">\n",
              "  <thead>\n",
              "    <tr style=\"text-align: right;\">\n",
              "      <th></th>\n",
              "      <th>track_duration</th>\n",
              "      <th>user_country_name</th>\n",
              "    </tr>\n",
              "  </thead>\n",
              "  <tbody>\n",
              "    <tr>\n",
              "      <th>0</th>\n",
              "      <td>1436.186</td>\n",
              "      <td>United Kingdom</td>\n",
              "    </tr>\n",
              "    <tr>\n",
              "      <th>1</th>\n",
              "      <td>1285.068</td>\n",
              "      <td>United Kingdom</td>\n",
              "    </tr>\n",
              "    <tr>\n",
              "      <th>2</th>\n",
              "      <td>2019.709</td>\n",
              "      <td>United Kingdom</td>\n",
              "    </tr>\n",
              "    <tr>\n",
              "      <th>3</th>\n",
              "      <td>324.223</td>\n",
              "      <td>United Kingdom</td>\n",
              "    </tr>\n",
              "    <tr>\n",
              "      <th>4</th>\n",
              "      <td>157.996</td>\n",
              "      <td>United Kingdom</td>\n",
              "    </tr>\n",
              "    <tr>\n",
              "      <th>...</th>\n",
              "      <td>...</td>\n",
              "      <td>...</td>\n",
              "    </tr>\n",
              "    <tr>\n",
              "      <th>2402</th>\n",
              "      <td>188.569</td>\n",
              "      <td>Thailand</td>\n",
              "    </tr>\n",
              "    <tr>\n",
              "      <th>2403</th>\n",
              "      <td>162.443</td>\n",
              "      <td>Thailand</td>\n",
              "    </tr>\n",
              "    <tr>\n",
              "      <th>2404</th>\n",
              "      <td>149.016</td>\n",
              "      <td>Thailand</td>\n",
              "    </tr>\n",
              "    <tr>\n",
              "      <th>2405</th>\n",
              "      <td>230.369</td>\n",
              "      <td>Thailand</td>\n",
              "    </tr>\n",
              "    <tr>\n",
              "      <th>2408</th>\n",
              "      <td>39.239</td>\n",
              "      <td>Venezuela, Bolivarian Republic of</td>\n",
              "    </tr>\n",
              "  </tbody>\n",
              "</table>\n",
              "<p>700 rows × 2 columns</p>\n",
              "</div>"
            ],
            "text/plain": [
              "      track_duration                  user_country_name\n",
              "0           1436.186                     United Kingdom\n",
              "1           1285.068                     United Kingdom\n",
              "2           2019.709                     United Kingdom\n",
              "3            324.223                     United Kingdom\n",
              "4            157.996                     United Kingdom\n",
              "...              ...                                ...\n",
              "2402         188.569                           Thailand\n",
              "2403         162.443                           Thailand\n",
              "2404         149.016                           Thailand\n",
              "2405         230.369                           Thailand\n",
              "2408          39.239  Venezuela, Bolivarian Republic of\n",
              "\n",
              "[700 rows x 2 columns]"
            ]
          },
          "metadata": {},
          "execution_count": 638
        }
      ],
      "source": [
        "sub_df['track_duration']=sub_df['track_duration']/1000      # thời lượng tính tính theo giây\n",
        "sub_df"
      ]
    },
    {
      "cell_type": "code",
      "execution_count": null,
      "metadata": {
        "id": "YOxiGhSCjBJR"
      },
      "outputs": [],
      "source": [
        "sub_df = percentile95_numerical(sub_df,'track_duration')   # Loại bớt outliner chọn khoảng 95%\n",
        "sub_df = percentile95_categorical(sub_df,'user_country_name')   # Loại bớt outliner chọn khoảng 95%"
      ]
    },
    {
      "cell_type": "code",
      "execution_count": null,
      "metadata": {
        "id": "j-jgMTsSnemk"
      },
      "outputs": [],
      "source": [
        "count_ser = sub_df['user_country_name'].value_counts();  # Tính tần số theo thế loại\n",
        "count_ser = count_ser.nlargest(20).sort_values(ascending=True); # Lấy top 20 và sắp xếp tăng\n"
      ]
    },
    {
      "cell_type": "markdown",
      "metadata": {
        "id": "yKniVxaPjkGW"
      },
      "source": [
        "**Trực Quan**\n"
      ]
    },
    {
      "cell_type": "code",
      "execution_count": null,
      "metadata": {
        "id": "13h-2t_JjEjQ",
        "colab": {
          "base_uri": "https://localhost:8080/",
          "height": 498
        },
        "outputId": "5c76b10d-6dbc-4046-fe13-d8e19ba66ee5"
      },
      "outputs": [
        {
          "output_type": "display_data",
          "data": {
            "image/png": "[encoded data removed]",
            "text/plain": [
              "<Figure size 864x576 with 1 Axes>"
            ]
          },
          "metadata": {
            "needs_background": "light"
          }
        }
      ],
      "source": [
        "count_ser.plot(figsize=(12, 8),kind='barh', title = 'Most country user');\n"
      ]
    },
    {
      "cell_type": "markdown",
      "metadata": {
        "id": "UZtZrUGvfF49"
      },
      "source": [
        "**Nhận xét**<br>\n",
        "-Quốc gia có lượng người dùng có playlist lớn nhất là US.\n"
      ]
    },
    {
      "cell_type": "markdown",
      "metadata": {
        "id": "bGc1_F2lfF4-"
      },
      "source": [
        "####2. Phân tích tương quan đa biến"
      ]
    },
    {
      "cell_type": "code",
      "execution_count": null,
      "metadata": {
        "id": "Ss9_VYiffF4-"
      },
      "outputs": [],
      "source": [
        "mean_like_ser = sub_df[['track_duration']].groupby(sub_df[\"user_country_name\"]).mean() # trung bình số like \n",
        "mean_like_ser = mean_like_ser['track_duration'].nlargest(15).sort_values(ascending=True); # Lấy top 10 và sắp xếp tăng"
      ]
    },
    {
      "cell_type": "markdown",
      "metadata": {
        "id": "R3cktKDKfF4_"
      },
      "source": [
        "Trực quan (scatterplot, jointplot, kde plot, correlation matrix)\n"
      ]
    },
    {
      "cell_type": "code",
      "execution_count": null,
      "metadata": {
        "id": "JtffFv1jfF4_",
        "colab": {
          "base_uri": "https://localhost:8080/",
          "height": 500
        },
        "outputId": "579992c8-3403-415c-fb84-79a12c14c966"
      },
      "outputs": [
        {
          "output_type": "display_data",
          "data": {
            "image/png": "[encoded data removed]",
            "text/plain": [
              "<Figure size 1008x576 with 1 Axes>"
            ]
          },
          "metadata": {
            "needs_background": "light"
          }
        }
      ],
      "source": [
        "mean_like_ser.plot( figsize=(14,8), kind='barh',title='Thời lượng trung bình theo quốc gia');"
      ]
    },
    {
      "cell_type": "markdown",
      "source": [
        "**Nhận xét**\n",
        "- Đan Mạch có thời lượng trung bình lớn nhất lên đến >700s tương đương 12 phút. \n",
        "\n",
        "- Thời lượng trung bình của các nước là khoảng 250s tương đương 4 phút."
      ],
      "metadata": {
        "id": "hTlP0e8VTQbX"
      }
    },
    {
      "cell_type": "markdown",
      "metadata": {
        "id": "QpOyIWpqfGOL"
      },
      "source": [
        "## Câu hỏi 10 : Thống kê track nào dc chọn trong playlist nhiều nhất"
      ]
    },
    {
      "cell_type": "markdown",
      "source": [
        "* Chọn những trường cần xử lý và loại bỏ giá trị NULL"
      ],
      "metadata": {
        "id": "muQDJg0S7hXx"
      }
    },
    {
      "cell_type": "markdown",
      "metadata": {
        "id": "jz1_sT4zfGOL"
      },
      "source": [
        "####1. Phân tích đơn biến\n"
      ]
    },
    {
      "cell_type": "code",
      "execution_count": null,
      "metadata": {
        "id": "clSxNy6jfGOM"
      },
      "outputs": [],
      "source": [
        "sub_df = df['playlist_tracks'].dropna().str.split(', ')\n",
        "sub_df = sub_df.explode()\n"
      ]
    },
    {
      "cell_type": "code",
      "source": [
        "count_ser = sub_df.value_counts().drop('',axis =0).nlargest(15).sort_values(ascending=True);\n",
        "count_ser.plot( figsize=(14,8), kind='barh',title='Thống kê các track được thêm vào playlist nhiều nhất');"
      ],
      "metadata": {
        "colab": {
          "base_uri": "https://localhost:8080/",
          "height": 500
        },
        "id": "gXEl4HzYMGRG",
        "outputId": "bda02579-69b4-479d-a48f-4e0c62a3d162"
      },
      "execution_count": null,
      "outputs": [
        {
          "output_type": "display_data",
          "data": {
            "image/png": "[encoded data removed]",
            "text/plain": [
              "<Figure size 1008x576 with 1 Axes>"
            ]
          },
          "metadata": {
            "needs_background": "light"
          }
        }
      ]
    },
    {
      "cell_type": "markdown",
      "metadata": {
        "id": "S-lZZTZyfGOM"
      },
      "source": [
        "**Nhận xét**<br>\n",
        "-Track có id là 206682854 được thêm vào nhiều playlist nhất."
      ]
    },
    {
      "cell_type": "markdown",
      "metadata": {
        "id": "1Swyj9BsGUhO"
      },
      "source": [
        "##Danh sách kiểm tra phân tích dữ liệu"
      ]
    },
    {
      "cell_type": "markdown",
      "metadata": {
        "id": "JQsSycUWSFr_"
      },
      "source": [
        "### Understanding data (Đặt vấn đề)"
      ]
    },
    {
      "cell_type": "markdown",
      "metadata": {
        "id": "xMkpiQHQH6Za"
      },
      "source": [
        "*Nhiều nhất, ít nhất, .. ? <br>\n",
        "*Quan hệ giữa các trường?"
      ]
    },
    {
      "cell_type": "markdown",
      "metadata": {
        "id": "jvMpycrLRNe8"
      },
      "source": [
        "### Preprocessing"
      ]
    },
    {
      "cell_type": "markdown",
      "metadata": {
        "id": "0Eve0gN1HmbU"
      },
      "source": [
        "* Số lượng sample và ý nghĩa\n",
        "* Số lượng feature, kiểu dữ liệu và ý nghĩa\n"
      ]
    },
    {
      "cell_type": "markdown",
      "metadata": {
        "id": "rBnvNpmgfi3u"
      },
      "source": [
        "Data cleaning\n"
      ]
    },
    {
      "cell_type": "markdown",
      "metadata": {
        "id": "uvvbDie4fkp3"
      },
      "source": [
        "1. Missing data ? \n",
        "2. Noisy data ? "
      ]
    },
    {
      "cell_type": "markdown",
      "metadata": {
        "id": "ri5P6IMIfgCh"
      },
      "source": [
        "Data intergration"
      ]
    },
    {
      "cell_type": "markdown",
      "metadata": {
        "id": "G9afLsREfeV6"
      },
      "source": [
        "1. Select required data (Chọn những trường cần thiết)\n",
        "2. Match the data schema (So khớp và nhập các bảng)\n",
        "3. Eliminate redundant and duplicate data (Loại dư thừa và lặp)\n",
        "4. Detect and resolve inconsistencies (Phát hiện và giải quyết xung đột)"
      ]
    },
    {
      "cell_type": "markdown",
      "metadata": {
        "id": "zhbeXDOURANG"
      },
      "source": [
        "###EDA "
      ]
    },
    {
      "cell_type": "markdown",
      "metadata": {
        "id": "y_-FhkvMHSAy"
      },
      "source": [
        "1. Trực quan hoá và phân tích mối quan hệ đơn biến (histogram, distplot,\n",
        "boxplot)\n",
        "2. Trực quan hoá và phân tích các tương quan đa biến (scatterplot, jointplot,\n",
        "kde plot, correlation matrix)\n"
      ]
    }
  ],
  "metadata": {
    "colab": {
      "collapsed_sections": [
        "PtKCqR6fgRzT",
        "Ah4AYPsfgWJC",
        "oyaZDWHYwIW1"
      ],
      "name": "Bản sao của Project 2.ipynb",
      "toc_visible": true,
      "provenance": []
    },
    "kernelspec": {
      "display_name": "Python 3",
      "name": "python3"
    },
    "language_info": {
      "name": "python"
    }
  },
  "nbformat": 4,
  "nbformat_minor": 0
}